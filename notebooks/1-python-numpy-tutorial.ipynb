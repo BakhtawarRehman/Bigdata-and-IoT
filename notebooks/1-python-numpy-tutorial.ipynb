{
  "cells": [
    {
      "cell_type": "code",
      "source": [
        "a = \"name\"\n",
        "\n",
        "if a == \"name\":\n",
        "  print ('TRue')\n",
        "else:\n",
        "  print ('false')"
      ],
      "metadata": {
        "id": "eRpDe3C7B3PV",
        "outputId": "2031f043-ccc9-4b3c-e846-345688a56690",
        "colab": {
          "base_uri": "https://localhost:8080/"
        }
      },
      "id": "eRpDe3C7B3PV",
      "execution_count": 1,
      "outputs": [
        {
          "output_type": "stream",
          "name": "stdout",
          "text": [
            "TRue\n"
          ]
        }
      ]
    },
    {
      "cell_type": "markdown",
      "source": [
        "## create a function to calculate GPA of a person.\n",
        "Use a loop to process all the GPAs above 3.0 scored by that individual\n"
      ],
      "metadata": {
        "id": "7ICSUFAIEUTO"
      },
      "id": "7ICSUFAIEUTO"
    },
    {
      "cell_type": "markdown",
      "source": [],
      "metadata": {
        "id": "IUkF6LFKEUFN"
      },
      "id": "IUkF6LFKEUFN"
    },
    {
      "cell_type": "code",
      "source": [
        "def GPACalculator (marks):\n",
        "  if marks >= 50 and marks < 60:\n",
        "    return \"D\"\n",
        "  elif marks >= 60 and marks < 70:\n",
        "    return \"C\"\n",
        "  elif marks >= 70 and marks < 80:\n",
        "    return \"B\"\n",
        "  elif marks >= 80:\n",
        "    return \"A\"\n",
        "  else:\n",
        "    return \"F\"\n"
      ],
      "metadata": {
        "id": "29v7SH3RB2jy"
      },
      "id": "29v7SH3RB2jy",
      "execution_count": 7,
      "outputs": []
    },
    {
      "cell_type": "code",
      "source": [
        "myMarks = [55, 45,32 ,90, 77, 66]\n",
        "for mark in myMarks:\n",
        "  print(GPACalculator(mark))"
      ],
      "metadata": {
        "id": "OEoFgHpwB2bU",
        "outputId": "4febe635-b660-407d-ba3e-d18c90081278",
        "colab": {
          "base_uri": "https://localhost:8080/"
        }
      },
      "id": "OEoFgHpwB2bU",
      "execution_count": 8,
      "outputs": [
        {
          "output_type": "stream",
          "name": "stdout",
          "text": [
            "D\n",
            "F\n",
            "F\n",
            "A\n",
            "B\n",
            "C\n"
          ]
        }
      ]
    },
    {
      "cell_type": "code",
      "source": [
        "list1 =  [1,2,3,4, [1,2,3], \"Arslan want a break\", {\"arslan\": \"not study\"}]"
      ],
      "metadata": {
        "id": "ddxzUwWIB2Et"
      },
      "id": "ddxzUwWIB2Et",
      "execution_count": 9,
      "outputs": []
    },
    {
      "cell_type": "code",
      "source": [
        "print(list1)"
      ],
      "metadata": {
        "id": "4hArrQCmB17h",
        "outputId": "f53a5965-914e-4adc-f4cc-4d62c346b0ce",
        "colab": {
          "base_uri": "https://localhost:8080/"
        }
      },
      "id": "4hArrQCmB17h",
      "execution_count": 10,
      "outputs": [
        {
          "output_type": "stream",
          "name": "stdout",
          "text": [
            "[1, 2, 3, 4, [1, 2, 3], 'Arslan want a break', {'arslan': 'not study'}]\n"
          ]
        }
      ]
    },
    {
      "cell_type": "code",
      "source": [
        "list1[4]"
      ],
      "metadata": {
        "id": "GbDTPtvOB1xA",
        "outputId": "a6afd778-11c4-44b6-ef33-cf4a8d1a24c1",
        "colab": {
          "base_uri": "https://localhost:8080/"
        }
      },
      "id": "GbDTPtvOB1xA",
      "execution_count": 11,
      "outputs": [
        {
          "output_type": "execute_result",
          "data": {
            "text/plain": [
              "[1, 2, 3]"
            ]
          },
          "metadata": {},
          "execution_count": 11
        }
      ]
    },
    {
      "cell_type": "code",
      "source": [
        "list1.append(\"Preston University\")"
      ],
      "metadata": {
        "id": "p2cllnubKq8o"
      },
      "id": "p2cllnubKq8o",
      "execution_count": 13,
      "outputs": []
    },
    {
      "cell_type": "code",
      "source": [
        "print(list1)"
      ],
      "metadata": {
        "id": "Cho2I5kNKq5o",
        "outputId": "d828e50b-18a2-44a2-b33c-3d5383aee2c9",
        "colab": {
          "base_uri": "https://localhost:8080/"
        }
      },
      "id": "Cho2I5kNKq5o",
      "execution_count": 21,
      "outputs": [
        {
          "output_type": "stream",
          "name": "stdout",
          "text": [
            "[1, 2, 3, 4, ['a', 3, 5, 'muqeem'], 'Arslan want a break', {'arslan': 'not study'}, 'Preston University']\n"
          ]
        }
      ]
    },
    {
      "cell_type": "code",
      "source": [
        "list1.insert(4, ['a', 3,5])"
      ],
      "metadata": {
        "id": "Sus4SK3KKq1A"
      },
      "id": "Sus4SK3KKq1A",
      "execution_count": 18,
      "outputs": []
    },
    {
      "cell_type": "code",
      "source": [
        "list1[4].append(\"muqeem\")"
      ],
      "metadata": {
        "id": "3bVUomR1Kqxa"
      },
      "id": "3bVUomR1Kqxa",
      "execution_count": 20,
      "outputs": []
    },
    {
      "cell_type": "code",
      "source": [],
      "metadata": {
        "id": "AqZiYRKXLpBY"
      },
      "id": "AqZiYRKXLpBY",
      "execution_count": 24,
      "outputs": []
    },
    {
      "cell_type": "code",
      "source": [],
      "metadata": {
        "id": "GRLBhwdKLo1M"
      },
      "id": "GRLBhwdKLo1M",
      "execution_count": null,
      "outputs": []
    },
    {
      "cell_type": "markdown",
      "metadata": {
        "id": "d6a48233-0736-4791-ab09-b9e432700780"
      },
      "source": [
        "# Python Crash Course\n",
        "\n",
        "*Fraida Fund*"
      ],
      "id": "d6a48233-0736-4791-ab09-b9e432700780"
    },
    {
      "cell_type": "markdown",
      "metadata": {
        "id": "2f8f08d0-ee5d-4c3f-af38-60f72d0cc790"
      },
      "source": [
        "**Attribution**:\n",
        "\n",
        "-   Parts of this notebook are adapted from a [tutorial from CS231N at Stanford University](https://cs231n.github.io/python-numpy-tutorial/), which is shared under the [MIT license]((https://opensource.org/licenses/MIT)).\n",
        "-   Parts of this notebook are adapted from Jake VanderPlas’s [Whirlwind Tour of Python](https://colab.research.google.com/github/jakevdp/WhirlwindTourOfPython/blob/master/Index.ipynb), which is shared under the [Creative Commons CC0 Public Domain Dedication license](https://github.com/jakevdp/WhirlwindTourOfPython/blob/master/LICENSE).\n",
        "-   The visualizations in this notebook are from [A Visual Intro to NumPy](http://jalammar.github.io/visual-numpy/) by Jay Alammar, which is licensed under a Creative Commons Attribution-NonCommercial-ShareAlike 4.0 International License.\n",
        "-   Parts of this notebook (and some images) about `numpy` broadcasting are adapted from Sebastian Raschka’s [STATS451](https://github.com/rasbt/stat451-machine-learning-fs20) materials."
      ],
      "id": "2f8f08d0-ee5d-4c3f-af38-60f72d0cc790"
    },
    {
      "cell_type": "markdown",
      "metadata": {
        "id": "b8c81981-ec2e-4984-bc03-c0d6ebd5b1b0"
      },
      "source": [
        "## Introduction"
      ],
      "id": "b8c81981-ec2e-4984-bc03-c0d6ebd5b1b0"
    },
    {
      "cell_type": "markdown",
      "metadata": {
        "id": "240d95fd-7840-40e5-9d88-ad34c882f072"
      },
      "source": [
        "Python is a great general-purpose programming language on its own, but with the help of a few popular *libraries* (`numpy`, `pandas`, `matplotlib`) it becomes a powerful environment for scientific computing."
      ],
      "id": "240d95fd-7840-40e5-9d88-ad34c882f072"
    },
    {
      "cell_type": "markdown",
      "metadata": {
        "id": "7e38a0f8-f6f9-49bb-aa05-5667ad3b3a12"
      },
      "source": [
        "This tutorial is an introduction to Python and the `numpy` library for those who are already familiar with programming in another language.\n",
        "\n",
        "In this tutorial, we will cover:\n",
        "\n",
        "-   Basic Python: Basic data types, Containers (Lists, Dictionaries,, Tuples), Control Flow Statements, Errors and Exceptions, Functions, Classes\n",
        "-   `numpy`: Arrays, Array indexing, Datatypes, Array math, Broadcasting\n",
        "-   `matplotlib`: Basic Visualization, Subplots, Image Visualization"
      ],
      "id": "7e38a0f8-f6f9-49bb-aa05-5667ad3b3a12"
    },
    {
      "cell_type": "markdown",
      "metadata": {
        "id": "016433a3-7b85-413d-8f7d-7a1001094c21"
      },
      "source": [
        "This tutorial is designed to run as a Python notebook on Colab. We’ll take a closer look at Colab and its features in a separate tutorial, but for now, here is what you need to know:\n",
        "\n",
        "-   When you see a “cell” with Python code in it, move your mouse over the margin on the left side of the cell. A \\> button will appear - click on that button to execute the code in the cell.\n",
        "-   The output of the code will appear underneath the cell.\n",
        "-   You can edit the code in the cell and press the \\> button again to execute the modified code.\n",
        "\n",
        "As you work through this tutorial, look at the code in each cell, and try to predict its output before you run it! Then, run the cell and check your understanding. You can also try to modify the code and observe the effect of your changes."
      ],
      "id": "016433a3-7b85-413d-8f7d-7a1001094c21"
    },
    {
      "cell_type": "markdown",
      "metadata": {
        "id": "b1e929e4-05e0-4036-806b-6c209957f6ec"
      },
      "source": [
        "## A Brief Note on Python Versions\n",
        "\n",
        "As of Janurary 1, 2020, Python has [officially dropped support](https://www.python.org/doc/sunset-python-2/) for `python2`. We’ll be using Python 3 for this course."
      ],
      "id": "b1e929e4-05e0-4036-806b-6c209957f6ec"
    },
    {
      "cell_type": "markdown",
      "metadata": {
        "id": "e95aa82c-403e-499f-8104-d49199e34660"
      },
      "source": [
        "## Basics of Python"
      ],
      "id": "e95aa82c-403e-499f-8104-d49199e34660"
    },
    {
      "cell_type": "markdown",
      "metadata": {
        "id": "ae04b003-acad-4759-a795-13f049eaa758"
      },
      "source": [
        "Python is a high-level, dynamically typed multiparadigm programming language. Python code is often said to be almost like pseudocode, since it allows you to express very powerful ideas in very few lines of code while being very readable. As an example, here is an implementation of the classic quicksort algorithm in Python:"
      ],
      "id": "ae04b003-acad-4759-a795-13f049eaa758"
    },
    {
      "cell_type": "code",
      "execution_count": null,
      "metadata": {
        "id": "1c75ac15-5238-449a-8c1b-23daff6ea389"
      },
      "outputs": [],
      "source": [
        "def quicksort(arr):\n",
        "    if len(arr) <= 1:\n",
        "        return arr\n",
        "    pivot = arr[len(arr) // 2]\n",
        "    left = [x for x in arr if x < pivot]\n",
        "    middle = [x for x in arr if x == pivot]\n",
        "    right = [x for x in arr if x > pivot]\n",
        "    return quicksort(left) + middle + quicksort(right)\n",
        "\n",
        "print(quicksort([3,6,8,10,1,2,1]))"
      ],
      "id": "1c75ac15-5238-449a-8c1b-23daff6ea389"
    },
    {
      "cell_type": "markdown",
      "metadata": {
        "id": "e3d2d925-fc3b-44b5-a5ec-218c19ab5226"
      },
      "source": [
        "### Basic data types"
      ],
      "id": "e3d2d925-fc3b-44b5-a5ec-218c19ab5226"
    },
    {
      "cell_type": "markdown",
      "metadata": {
        "id": "08052eff-babc-4a4d-a8a6-ca1b24ac2b50"
      },
      "source": [
        "#### Numbers"
      ],
      "id": "08052eff-babc-4a4d-a8a6-ca1b24ac2b50"
    },
    {
      "cell_type": "markdown",
      "metadata": {
        "id": "f25fefb2-ee96-4c50-8d88-2e52febaa6cf"
      },
      "source": [
        "Integers and floats work as you would expect from other languages:"
      ],
      "id": "f25fefb2-ee96-4c50-8d88-2e52febaa6cf"
    },
    {
      "cell_type": "code",
      "execution_count": null,
      "metadata": {
        "id": "90be42c9-0735-4366-97a5-a6e1d93cfd35"
      },
      "outputs": [],
      "source": [
        "x = 3\n",
        "print(x, type(x))"
      ],
      "id": "90be42c9-0735-4366-97a5-a6e1d93cfd35"
    },
    {
      "cell_type": "markdown",
      "metadata": {
        "id": "01afe9b9-ee19-4974-928b-dab46ee7b340"
      },
      "source": [
        "By the way: note that you did not have to declare the variable `x` or specify its type before you assigned a value to it. In Python, you can create a variable just by assigning something to it."
      ],
      "id": "01afe9b9-ee19-4974-928b-dab46ee7b340"
    },
    {
      "cell_type": "code",
      "execution_count": null,
      "metadata": {
        "id": "1037c308-87d4-4b5e-8397-a9b5648cc8e5"
      },
      "outputs": [],
      "source": [
        "print(x + 1)   # Addition\n",
        "print(x - 1)   # Subtraction\n",
        "print(x * 2)   # Multiplication\n",
        "print(x ** 2)  # Exponentiation"
      ],
      "id": "1037c308-87d4-4b5e-8397-a9b5648cc8e5"
    },
    {
      "cell_type": "markdown",
      "metadata": {
        "id": "cbf6a178-1514-4c13-90b7-0055073fca53"
      },
      "source": [
        "Notice that in the cell above, there is a comment at the end of each line. Comments in Python are indicated by a pound sign (`#`), and anything on the line following the pound sign is ignored. You can have inline comments that follow a statement on the same line, like the ones above, or a comment on its own line."
      ],
      "id": "cbf6a178-1514-4c13-90b7-0055073fca53"
    },
    {
      "cell_type": "code",
      "execution_count": null,
      "metadata": {
        "id": "79536093-0f15-4e48-9f51-618d330c1317"
      },
      "outputs": [],
      "source": [
        "x += 1\n",
        "print(x)\n",
        "x *= 2\n",
        "print(x)"
      ],
      "id": "79536093-0f15-4e48-9f51-618d330c1317"
    },
    {
      "cell_type": "code",
      "execution_count": null,
      "metadata": {
        "id": "ac453a15-afc2-4996-be0a-c88aeacbb82d"
      },
      "outputs": [],
      "source": [
        "y = 2.5\n",
        "print(type(y))\n",
        "print(y, y + 1, y * 2, y ** 2)"
      ],
      "id": "ac453a15-afc2-4996-be0a-c88aeacbb82d"
    },
    {
      "cell_type": "markdown",
      "metadata": {
        "id": "226c09d7-a5c6-4416-bf42-c89c58cc1f43"
      },
      "source": [
        "Note that unlike many languages, Python does not have unary increment (x++) or decrement (x--) operators.\n",
        "\n",
        "Python also has built-in types for long integers and complex numbers; you can find all of the details in the [documentation](https://docs.python.org/3.7/library/stdtypes.html#numeric-types-int-float-long-complex)."
      ],
      "id": "226c09d7-a5c6-4416-bf42-c89c58cc1f43"
    },
    {
      "cell_type": "markdown",
      "metadata": {
        "id": "1ef02661-7ac9-404f-9bf6-aebc6bee40c6"
      },
      "source": [
        "#### Booleans"
      ],
      "id": "1ef02661-7ac9-404f-9bf6-aebc6bee40c6"
    },
    {
      "cell_type": "markdown",
      "metadata": {
        "id": "ef8ac9c0-6ba8-43c9-a932-c941e79ff907"
      },
      "source": [
        "Python implements all of the usual operators for Boolean logic, but uses English words rather than symbols (`&&`, `||`, etc.):"
      ],
      "id": "ef8ac9c0-6ba8-43c9-a932-c941e79ff907"
    },
    {
      "cell_type": "code",
      "execution_count": null,
      "metadata": {
        "id": "ea2f519f-af8f-40c1-8a21-1a4e51caa247"
      },
      "outputs": [],
      "source": [
        "t, f = True, False\n",
        "print(type(t))"
      ],
      "id": "ea2f519f-af8f-40c1-8a21-1a4e51caa247"
    },
    {
      "cell_type": "markdown",
      "metadata": {
        "id": "52d6de90-38b9-48f7-a813-61d4a269364c"
      },
      "source": [
        "Now let's look at the operations:"
      ],
      "id": "52d6de90-38b9-48f7-a813-61d4a269364c"
    },
    {
      "cell_type": "code",
      "execution_count": null,
      "metadata": {
        "id": "b7467a2e-4c08-4369-847f-3fe356be0ff3"
      },
      "outputs": [],
      "source": [
        "print(t and f) # Logical AND;\n",
        "print(t or f)  # Logical OR;\n",
        "print(not t)   # Logical NOT;\n",
        "print(t != f)  # Logical XOR;"
      ],
      "id": "b7467a2e-4c08-4369-847f-3fe356be0ff3"
    },
    {
      "cell_type": "markdown",
      "metadata": {
        "id": "c9df5f97-692b-4f91-8f9d-40bc80e5ae66"
      },
      "source": [
        "#### Strings"
      ],
      "id": "c9df5f97-692b-4f91-8f9d-40bc80e5ae66"
    },
    {
      "cell_type": "code",
      "execution_count": null,
      "metadata": {
        "id": "60a65ef2-75f4-447e-a54c-707fc73b2983"
      },
      "outputs": [],
      "source": [
        "hello = 'hello'   # String literals can use single quotes\n",
        "world = \"world\"   # or double quotes; it does not matter\n",
        "print(hello, len(hello))"
      ],
      "id": "60a65ef2-75f4-447e-a54c-707fc73b2983"
    },
    {
      "cell_type": "code",
      "execution_count": null,
      "metadata": {
        "id": "f57d41a5-e473-4bc8-8123-77ea9cd47755"
      },
      "outputs": [],
      "source": [
        "hw = hello + ' ' + world  # String concatenation\n",
        "print(hw)"
      ],
      "id": "f57d41a5-e473-4bc8-8123-77ea9cd47755"
    },
    {
      "cell_type": "code",
      "execution_count": null,
      "metadata": {
        "id": "2c723b0c-b1a5-4925-98fc-b28c5ca285d2"
      },
      "outputs": [],
      "source": [
        "hw12 = '{} {} {}'.format(hello, world, 12)  # string formatting\n",
        "print(hw12)"
      ],
      "id": "2c723b0c-b1a5-4925-98fc-b28c5ca285d2"
    },
    {
      "cell_type": "markdown",
      "metadata": {
        "id": "842abc9d-f4e3-4e4d-aab1-0c904e633d09"
      },
      "source": [
        "String objects have a bunch of useful methods; for example:"
      ],
      "id": "842abc9d-f4e3-4e4d-aab1-0c904e633d09"
    },
    {
      "cell_type": "code",
      "execution_count": null,
      "metadata": {
        "id": "4104d010-d980-4a85-838b-366b18ecd775"
      },
      "outputs": [],
      "source": [
        "s = \"hello\"\n",
        "print(s.capitalize())  # Capitalize a string\n",
        "print(s.upper())       # Convert a string to uppercase; prints \"HELLO\"\n",
        "print(s.rjust(7))      # Right-justify a string, padding with spaces\n",
        "print(s.center(7))     # Center a string, padding with spaces\n",
        "print(s.replace('l', '(ell)'))  # Replace all instances of one substring with another\n",
        "print('  world '.strip())  # Strip leading and trailing whitespace"
      ],
      "id": "4104d010-d980-4a85-838b-366b18ecd775"
    },
    {
      "cell_type": "markdown",
      "metadata": {
        "id": "4936a0b5-a5c0-43b9-b288-c1f69a6fe8a8"
      },
      "source": [
        "You can find a list of all string methods in the [documentation](https://docs.python.org/3.7/library/stdtypes.html#string-methods)."
      ],
      "id": "4936a0b5-a5c0-43b9-b288-c1f69a6fe8a8"
    },
    {
      "cell_type": "markdown",
      "metadata": {
        "id": "4b7098c9-3e7d-4cb9-b4b3-878f1746720f"
      },
      "source": [
        "### Containers"
      ],
      "id": "4b7098c9-3e7d-4cb9-b4b3-878f1746720f"
    },
    {
      "cell_type": "markdown",
      "metadata": {
        "id": "c585ae76-e38f-4b2d-8f92-4eff3497eaed"
      },
      "source": [
        "Python includes several built-in container types: lists, dictionaries, sets, and tuples."
      ],
      "id": "c585ae76-e38f-4b2d-8f92-4eff3497eaed"
    },
    {
      "cell_type": "markdown",
      "metadata": {
        "id": "6d444cd2-9cd7-4b1b-9471-b1f2938019a4"
      },
      "source": [
        "#### Lists"
      ],
      "id": "6d444cd2-9cd7-4b1b-9471-b1f2938019a4"
    },
    {
      "cell_type": "markdown",
      "metadata": {
        "id": "1e0b8932-c60d-42f6-8623-322868a4d6ba"
      },
      "source": [
        "A list is the Python equivalent of an array, but is resizeable and can contain elements of different types:"
      ],
      "id": "1e0b8932-c60d-42f6-8623-322868a4d6ba"
    },
    {
      "cell_type": "code",
      "execution_count": null,
      "metadata": {
        "id": "766f7ace-16c0-48c5-981f-0a3cfd089a01"
      },
      "outputs": [],
      "source": [
        "xs = [3, 1, 2]   # Create a list\n",
        "print(xs, xs[2])\n",
        "print(xs[-1])     # Negative indices count from the end of the list; prints \"2\""
      ],
      "id": "766f7ace-16c0-48c5-981f-0a3cfd089a01"
    },
    {
      "cell_type": "code",
      "execution_count": null,
      "metadata": {
        "id": "27e151be-a1b1-4fcd-87c0-937bb017dd42"
      },
      "outputs": [],
      "source": [
        "xs[2] = 'foo'    # Lists can contain elements of different types\n",
        "print(xs)"
      ],
      "id": "27e151be-a1b1-4fcd-87c0-937bb017dd42"
    },
    {
      "cell_type": "code",
      "execution_count": null,
      "metadata": {
        "id": "d531bf6d-556f-47d0-b221-68b8664d8e91"
      },
      "outputs": [],
      "source": [
        "xs.append('bar') # Add a new element to the end of the list\n",
        "print(xs)"
      ],
      "id": "d531bf6d-556f-47d0-b221-68b8664d8e91"
    },
    {
      "cell_type": "code",
      "execution_count": null,
      "metadata": {
        "id": "3fbed05f-da98-4486-b15c-9854562dd063"
      },
      "outputs": [],
      "source": [
        "x = xs.pop()     # Remove and return the last element of the list\n",
        "print(x, xs)"
      ],
      "id": "3fbed05f-da98-4486-b15c-9854562dd063"
    },
    {
      "cell_type": "markdown",
      "metadata": {
        "id": "e9fd384f-34eb-4a55-bd7f-4e6c7a8e08d1"
      },
      "source": [
        "As usual, you can find all the gory details about lists in the [documentation](https://docs.python.org/3.7/tutorial/datastructures.html#more-on-lists)."
      ],
      "id": "e9fd384f-34eb-4a55-bd7f-4e6c7a8e08d1"
    },
    {
      "cell_type": "markdown",
      "metadata": {
        "id": "db8218ad-94bc-4511-821f-dfca826ca4b7"
      },
      "source": [
        "#### Slicing"
      ],
      "id": "db8218ad-94bc-4511-821f-dfca826ca4b7"
    },
    {
      "cell_type": "markdown",
      "metadata": {
        "id": "b154e96b-6fdb-42bd-9128-641885263a17"
      },
      "source": [
        "In addition to accessing list elements one at a time, Python provides concise syntax to access sublists; this is known as slicing:"
      ],
      "id": "b154e96b-6fdb-42bd-9128-641885263a17"
    },
    {
      "cell_type": "code",
      "execution_count": null,
      "metadata": {
        "id": "04c57dad-7711-4106-8cde-b9c69a536676"
      },
      "outputs": [],
      "source": [
        "nums = list(range(5))    # range is a built-in function that creates a list of integers\n",
        "print(nums)         # Prints \"[0, 1, 2, 3, 4]\"\n",
        "print(nums[2:4])    # Get a slice from index 2 to 4 (exclusive); prints \"[2, 3]\"\n",
        "print(nums[2:])     # Get a slice from index 2 to the end; prints \"[2, 3, 4]\"\n",
        "print(nums[:2])     # Get a slice from the start to index 2 (exclusive); prints \"[0, 1]\"\n",
        "print(nums[:])      # Get a slice of the whole list; prints [\"0, 1, 2, 3, 4]\"\n",
        "print(nums[:-1])    # Slice indices can be negative; prints [\"0, 1, 2, 3]\"\n",
        "nums[2:4] = [8, 9] # Assign a new sublist to a slice\n",
        "print(nums)         # Prints \"[0, 1, 8, 9, 4]\""
      ],
      "id": "04c57dad-7711-4106-8cde-b9c69a536676"
    },
    {
      "cell_type": "markdown",
      "metadata": {
        "id": "9183399c-3641-4156-ba57-216b380d5ddb"
      },
      "source": [
        "#### Dictionaries"
      ],
      "id": "9183399c-3641-4156-ba57-216b380d5ddb"
    },
    {
      "cell_type": "markdown",
      "metadata": {
        "id": "785ffea8-8ffa-4580-a3bf-379bff45c11f"
      },
      "source": [
        "A dictionary stores (key, value) pairs, similar to a `Map` in Java or an object in Javascript. You can use it like this:"
      ],
      "id": "785ffea8-8ffa-4580-a3bf-379bff45c11f"
    },
    {
      "cell_type": "code",
      "execution_count": 25,
      "metadata": {
        "id": "6ee8109c-6557-464c-8a74-0cec37693915",
        "outputId": "80de1ecc-4f2b-403b-9809-4f4f534063f8",
        "colab": {
          "base_uri": "https://localhost:8080/"
        }
      },
      "outputs": [
        {
          "output_type": "stream",
          "name": "stdout",
          "text": [
            "cute\n",
            "True\n"
          ]
        }
      ],
      "source": [
        "d = {'cat': 'cute', 'dog': 'furry'}  # Create a new dictionary with some data\n",
        "print(d['cat'])       # Get an entry from a dictionary; prints \"cute\"\n",
        "print('cat' in d)     # Check if a dictionary has a given key; prints \"True\""
      ],
      "id": "6ee8109c-6557-464c-8a74-0cec37693915"
    },
    {
      "cell_type": "code",
      "execution_count": 26,
      "metadata": {
        "id": "6ad6d6a1-ca21-44ae-a6cf-a2b4dac2c34b",
        "outputId": "7705d9af-7db5-4857-a5a2-9ed90c67830e",
        "colab": {
          "base_uri": "https://localhost:8080/"
        }
      },
      "outputs": [
        {
          "output_type": "stream",
          "name": "stdout",
          "text": [
            "wet\n"
          ]
        }
      ],
      "source": [
        "d['fish'] = 'wet'    # Set an entry in a dictionary\n",
        "print(d['fish'])      # Prints \"wet\""
      ],
      "id": "6ad6d6a1-ca21-44ae-a6cf-a2b4dac2c34b"
    },
    {
      "cell_type": "code",
      "source": [
        "d"
      ],
      "metadata": {
        "id": "w8Y9DQHYM_Mf",
        "outputId": "5b02fbaf-2b77-4ff2-cd38-2e0638d7f652",
        "colab": {
          "base_uri": "https://localhost:8080/"
        }
      },
      "id": "w8Y9DQHYM_Mf",
      "execution_count": 28,
      "outputs": [
        {
          "output_type": "execute_result",
          "data": {
            "text/plain": [
              "{'cat': 'cute', 'dog': 'furry', 'fish': 'wet'}"
            ]
          },
          "metadata": {},
          "execution_count": 28
        }
      ]
    },
    {
      "cell_type": "code",
      "execution_count": 27,
      "metadata": {
        "id": "4b413ff1-ef2c-4430-a305-ef9a52c3f55c",
        "outputId": "d853a79a-3dca-4a1a-99b2-f053bcba198f",
        "colab": {
          "base_uri": "https://localhost:8080/",
          "height": 158
        }
      },
      "outputs": [
        {
          "output_type": "error",
          "ename": "KeyError",
          "evalue": "'monkey'",
          "traceback": [
            "\u001b[0;31m---------------------------------------------------------------------------\u001b[0m",
            "\u001b[0;31mKeyError\u001b[0m                                  Traceback (most recent call last)",
            "\u001b[0;32m<ipython-input-27-3e76d3ba5b29>\u001b[0m in \u001b[0;36m<cell line: 0>\u001b[0;34m()\u001b[0m\n\u001b[1;32m      1\u001b[0m \u001b[0;31m# note: this cell will raise an error\u001b[0m\u001b[0;34m\u001b[0m\u001b[0;34m\u001b[0m\u001b[0m\n\u001b[0;32m----> 2\u001b[0;31m \u001b[0mprint\u001b[0m\u001b[0;34m(\u001b[0m\u001b[0md\u001b[0m\u001b[0;34m[\u001b[0m\u001b[0;34m'monkey'\u001b[0m\u001b[0;34m]\u001b[0m\u001b[0;34m)\u001b[0m  \u001b[0;31m# KeyError: 'monkey' not a key of d\u001b[0m\u001b[0;34m\u001b[0m\u001b[0;34m\u001b[0m\u001b[0m\n\u001b[0m",
            "\u001b[0;31mKeyError\u001b[0m: 'monkey'"
          ]
        }
      ],
      "source": [
        "# note: this cell will raise an error\n",
        "print(d['monkey'])  # KeyError: 'monkey' not a key of d"
      ],
      "id": "4b413ff1-ef2c-4430-a305-ef9a52c3f55c"
    },
    {
      "cell_type": "code",
      "execution_count": 29,
      "metadata": {
        "id": "4fbd3fd1-eddf-41e0-8b1c-aa24162653e2",
        "outputId": "a23ca32e-4ca7-4f55-e582-fe927331f1de",
        "colab": {
          "base_uri": "https://localhost:8080/"
        }
      },
      "outputs": [
        {
          "output_type": "stream",
          "name": "stdout",
          "text": [
            "N/A\n",
            "wet\n"
          ]
        }
      ],
      "source": [
        "print(d.get('monkey', 'N/A'))  # Get an element with a default; prints \"N/A\"\n",
        "print(d.get('fish', 'N/A'))    # Get an element with a default; prints \"wet\""
      ],
      "id": "4fbd3fd1-eddf-41e0-8b1c-aa24162653e2"
    },
    {
      "cell_type": "code",
      "source": [
        "d['fish'] = 'machli'"
      ],
      "metadata": {
        "id": "fNg9U_URNUAx"
      },
      "id": "fNg9U_URNUAx",
      "execution_count": 33,
      "outputs": []
    },
    {
      "cell_type": "code",
      "execution_count": 34,
      "metadata": {
        "id": "e814564d-5d9e-4995-a802-0762f084f462",
        "outputId": "f6790b31-d442-4b2a-f521-2163959a6ca3",
        "colab": {
          "base_uri": "https://localhost:8080/"
        }
      },
      "outputs": [
        {
          "output_type": "stream",
          "name": "stdout",
          "text": [
            "nishtaa de\n"
          ]
        }
      ],
      "source": [
        "del d['fish']        # Remove an element from a dictionary\n",
        "print(d.get('fish', 'nishtaa de')) # \"fish\" is no longer a key; prints \"N/A\""
      ],
      "id": "e814564d-5d9e-4995-a802-0762f084f462"
    },
    {
      "cell_type": "markdown",
      "metadata": {
        "id": "3683469a-0808-44b2-81a5-618047afc52f"
      },
      "source": [
        "You can find all you need to know about dictionaries in the [documentation](https://docs.python.org/2/library/stdtypes.html#dict)."
      ],
      "id": "3683469a-0808-44b2-81a5-618047afc52f"
    },
    {
      "cell_type": "markdown",
      "metadata": {
        "id": "a3bf2885-0c4f-442a-bc9a-ab8d81f59baa"
      },
      "source": [
        "#### Tuples"
      ],
      "id": "a3bf2885-0c4f-442a-bc9a-ab8d81f59baa"
    },
    {
      "cell_type": "markdown",
      "metadata": {
        "id": "38b4d206-0bae-4822-8676-8dc9fe6efb9b"
      },
      "source": [
        "A tuple is an (immutable) ordered list of values. A tuple is in many ways similar to a list; one of the most important differences is that tuples can be used as keys in dictionaries and as elements of sets, while lists cannot. Here is a trivial example:"
      ],
      "id": "38b4d206-0bae-4822-8676-8dc9fe6efb9b"
    },
    {
      "cell_type": "code",
      "execution_count": 35,
      "metadata": {
        "id": "4446936b-8c79-4a7e-825b-e46168ce19d3",
        "outputId": "c188063f-1947-44cf-a459-865b5b3353a1",
        "colab": {
          "base_uri": "https://localhost:8080/"
        }
      },
      "outputs": [
        {
          "output_type": "stream",
          "name": "stdout",
          "text": [
            "<class 'tuple'>\n",
            "5\n",
            "1\n"
          ]
        }
      ],
      "source": [
        "d = {(x, x + 1): x for x in range(10)}  # Create a dictionary with tuple keys\n",
        "t = (5, 6)       # Create a tuple\n",
        "print(type(t))\n",
        "print(d[t])\n",
        "\n",
        "print(d[(1, 2)])"
      ],
      "id": "4446936b-8c79-4a7e-825b-e46168ce19d3"
    },
    {
      "cell_type": "code",
      "execution_count": null,
      "metadata": {
        "id": "6c28bec4-0382-4ad1-b0a1-8c5d284d1dd5"
      },
      "outputs": [],
      "source": [
        "d[0] = 100 # you can change a value in the dictionary...\n",
        "print(d)"
      ],
      "id": "6c28bec4-0382-4ad1-b0a1-8c5d284d1dd5"
    },
    {
      "cell_type": "code",
      "execution_count": null,
      "metadata": {
        "id": "f2133775-b688-47d6-b35c-f3aa077e682e"
      },
      "outputs": [],
      "source": [
        "t[0] = 1 # ...but not a value in the tuple\n",
        "# this cell raises an error! 'tuple' object does not support item assignment"
      ],
      "id": "f2133775-b688-47d6-b35c-f3aa077e682e"
    },
    {
      "cell_type": "markdown",
      "metadata": {
        "id": "39a90481-e97f-41ad-8e1f-4702359ed903"
      },
      "source": [
        "### Control Flow Statements"
      ],
      "id": "39a90481-e97f-41ad-8e1f-4702359ed903"
    },
    {
      "cell_type": "markdown",
      "metadata": {
        "id": "66484cf5-c1b5-4775-89d5-4dd0eea4a057"
      },
      "source": [
        "#### If-Else\n",
        "\n",
        "Conditional statements, often referred to as *if-then* statements, allow the programmer to execute certain pieces of code depending on some Boolean condition.\n",
        "\n",
        "A basic example of a Python conditional statement is this:"
      ],
      "id": "66484cf5-c1b5-4775-89d5-4dd0eea4a057"
    },
    {
      "cell_type": "code",
      "execution_count": null,
      "metadata": {
        "id": "33f6148f-dc20-4f1a-ad51-d1055989a3ff"
      },
      "outputs": [],
      "source": [
        "\n",
        "x = -15\n",
        "\n",
        "if x == 0:\n",
        "    print(x, \"is zero\")\n",
        "elif x > 0:\n",
        "    print(x, \"is positive\")\n",
        "elif x < 0:\n",
        "    print(x, \"is negative\")\n",
        "else:\n",
        "    print(x, \"is unlike anything I've ever seen...\")"
      ],
      "id": "33f6148f-dc20-4f1a-ad51-d1055989a3ff"
    },
    {
      "cell_type": "markdown",
      "metadata": {
        "id": "8deb359a-3183-4764-9306-fe7731fc3610"
      },
      "source": [
        "Note especially the use of colons (`:`) and whitespace to denote separate blocks of code.\n",
        "\n",
        "A *block* of code is a set of statements that should be treated as a unit. In C, for example, code blocks are denoted by curly braces:\n",
        "\n",
        "``` c\n",
        "// C code\n",
        "for(int i=0; i<100; i++)\n",
        "   {\n",
        "      // curly braces indicate code block\n",
        "      total += i;\n",
        "   }\n",
        "```\n",
        "\n",
        "In Python, code blocks are denoted by *indentation*:\n",
        "\n",
        "``` python\n",
        "for i in range(100):\n",
        "    # indentation indicates code block\n",
        "    total += i\n",
        "```\n",
        "\n",
        "where all statements that should be evaluated within the “block” are at the same level of indentation.\n",
        "\n",
        "Indented code blocks are always preceded by a colon (`:`) on the previous line."
      ],
      "id": "8deb359a-3183-4764-9306-fe7731fc3610"
    },
    {
      "cell_type": "markdown",
      "metadata": {
        "id": "9e70c7c2-dac0-486b-b0b3-d752d257c1a0"
      },
      "source": [
        "#### For\n",
        "\n",
        "Loops in Python are a way to repeatedly execute some code statement. So, for example, if we’d like to print each of the items in a list, we can use a `for` loop:"
      ],
      "id": "9e70c7c2-dac0-486b-b0b3-d752d257c1a0"
    },
    {
      "cell_type": "code",
      "execution_count": null,
      "metadata": {
        "id": "2e59881c-ae3d-4037-a9ad-64d95ae1360a"
      },
      "outputs": [],
      "source": [
        "for N in [2, 3, 5, 7]:\n",
        "    print(N, end=' ') # print all on same line"
      ],
      "id": "2e59881c-ae3d-4037-a9ad-64d95ae1360a"
    },
    {
      "cell_type": "markdown",
      "metadata": {
        "id": "8a517fb5-02fa-496c-8bb1-658ec908e827"
      },
      "source": [
        "Notice the simplicity of the `for` loop: we specify the variable we want to use, the sequence we want to loop over, and use the “`in`” operator to link them together in an intuitive and readable way. More precisely, the object to the right of the “`in`” can be any Python *iterator*.\n",
        "\n",
        "For example, one of the most commonly-used iterators in Python is the `range` object, which generates a sequence of numbers:"
      ],
      "id": "8a517fb5-02fa-496c-8bb1-658ec908e827"
    },
    {
      "cell_type": "code",
      "execution_count": null,
      "metadata": {
        "id": "b723af96-6a66-4324-810a-b6b13e6fcfa0"
      },
      "outputs": [],
      "source": [
        "for i in range(10):\n",
        "    print(i, end=' ')"
      ],
      "id": "b723af96-6a66-4324-810a-b6b13e6fcfa0"
    },
    {
      "cell_type": "markdown",
      "metadata": {
        "id": "40b062b8-6c87-4dbb-b617-f1708c537813"
      },
      "source": [
        "Note that the range starts at zero by default, and that by convention the top of the range is not included in the output."
      ],
      "id": "40b062b8-6c87-4dbb-b617-f1708c537813"
    },
    {
      "cell_type": "markdown",
      "metadata": {
        "id": "7559d3b5-d9ad-4df9-9633-6ab823c864ad"
      },
      "source": [
        "We can loop over any list, no matter what type of object is stored in it."
      ],
      "id": "7559d3b5-d9ad-4df9-9633-6ab823c864ad"
    },
    {
      "cell_type": "code",
      "execution_count": null,
      "metadata": {
        "id": "477477e0-07de-4c18-951a-1e07f15ea03c"
      },
      "outputs": [],
      "source": [
        "animals = ['cat', 'dog', 'monkey']\n",
        "for animal in animals:\n",
        "    print(animal)"
      ],
      "id": "477477e0-07de-4c18-951a-1e07f15ea03c"
    },
    {
      "cell_type": "markdown",
      "metadata": {
        "id": "e8d3c9f1-b594-413c-a8ae-3c057235c876"
      },
      "source": [
        "If you want access to the index of each element within the body of a loop, use the built-in `enumerate` function:"
      ],
      "id": "e8d3c9f1-b594-413c-a8ae-3c057235c876"
    },
    {
      "cell_type": "code",
      "execution_count": null,
      "metadata": {
        "id": "47a8d745-8748-41f3-9023-68b2c248fb96"
      },
      "outputs": [],
      "source": [
        "animals = ['cat', 'dog', 'monkey']\n",
        "for idx, animal in enumerate(animals):\n",
        "    print('#{}: {}'.format(idx + 1, animal))"
      ],
      "id": "47a8d745-8748-41f3-9023-68b2c248fb96"
    },
    {
      "cell_type": "markdown",
      "metadata": {
        "id": "d0935db4-c25c-4ea0-9628-a0a35a0e1afc"
      },
      "source": [
        "It is easy to iterate over the keys in a dictionary:"
      ],
      "id": "d0935db4-c25c-4ea0-9628-a0a35a0e1afc"
    },
    {
      "cell_type": "code",
      "execution_count": null,
      "metadata": {
        "id": "1618d8c9-2860-4796-b82a-a86191390631"
      },
      "outputs": [],
      "source": [
        "d = {'person': 2, 'cat': 4, 'spider': 8}\n",
        "for animal, legs in d.items():\n",
        "    print('A {} has {} legs'.format(animal, legs))"
      ],
      "id": "1618d8c9-2860-4796-b82a-a86191390631"
    },
    {
      "cell_type": "markdown",
      "metadata": {
        "id": "e874eb73-e7cf-4264-940b-39c98e1aca5f"
      },
      "source": [
        "#### While\n",
        "\n",
        "The other type of loop in Python is a `while` loop, which iterates until some condition is met:"
      ],
      "id": "e874eb73-e7cf-4264-940b-39c98e1aca5f"
    },
    {
      "cell_type": "code",
      "execution_count": null,
      "metadata": {
        "id": "408dbdc4-e26b-4e64-ac65-8fe43df36492"
      },
      "outputs": [],
      "source": [
        "i = 0\n",
        "while i < 10:\n",
        "    print(i, end=' ')\n",
        "    i += 1"
      ],
      "id": "408dbdc4-e26b-4e64-ac65-8fe43df36492"
    },
    {
      "cell_type": "markdown",
      "metadata": {
        "id": "4b52d4f4-6257-4eec-9ac4-bebda7b0b119"
      },
      "source": [
        "#### List comprehensions"
      ],
      "id": "4b52d4f4-6257-4eec-9ac4-bebda7b0b119"
    },
    {
      "cell_type": "markdown",
      "metadata": {
        "id": "addcb9d1-f93e-4cb3-91c0-adfecc9b0dc2"
      },
      "source": [
        "When programming, frequently we want to transform one type of data into another. As a simple example, consider the following code that computes square numbers:"
      ],
      "id": "addcb9d1-f93e-4cb3-91c0-adfecc9b0dc2"
    },
    {
      "cell_type": "code",
      "execution_count": null,
      "metadata": {
        "id": "0ec1567b-163b-45c1-beed-ab9db6e95a7d"
      },
      "outputs": [],
      "source": [
        "nums = [0, 1, 2, 3, 4]\n",
        "squares = []\n",
        "for x in nums:\n",
        "    squares.append(x ** 2)\n",
        "print(squares)"
      ],
      "id": "0ec1567b-163b-45c1-beed-ab9db6e95a7d"
    },
    {
      "cell_type": "markdown",
      "metadata": {
        "id": "42aaf751-8c87-4486-a36e-9e7341094fe5"
      },
      "source": [
        "You can make this code simpler using a list comprehension:"
      ],
      "id": "42aaf751-8c87-4486-a36e-9e7341094fe5"
    },
    {
      "cell_type": "code",
      "execution_count": null,
      "metadata": {
        "id": "9611888a-08c6-47dd-8955-f8fc04eee49a"
      },
      "outputs": [],
      "source": [
        "nums = [0, 1, 2, 3, 4]\n",
        "squares = [x ** 2 for x in nums]\n",
        "print(squares)"
      ],
      "id": "9611888a-08c6-47dd-8955-f8fc04eee49a"
    },
    {
      "cell_type": "markdown",
      "metadata": {
        "id": "048d5708-ecff-4861-a12d-0d1ab1218460"
      },
      "source": [
        "List comprehensions can also contain conditions:"
      ],
      "id": "048d5708-ecff-4861-a12d-0d1ab1218460"
    },
    {
      "cell_type": "code",
      "execution_count": null,
      "metadata": {
        "id": "ce956a1b-839f-4718-9ddd-ec0f60a89f6b"
      },
      "outputs": [],
      "source": [
        "nums = [0, 1, 2, 3, 4]\n",
        "even_squares = [x ** 2 for x in nums if x % 2 == 0]\n",
        "print(even_squares)"
      ],
      "id": "ce956a1b-839f-4718-9ddd-ec0f60a89f6b"
    },
    {
      "cell_type": "markdown",
      "metadata": {
        "id": "15e8c908-3d45-4aac-97f9-152d4760c2f4"
      },
      "source": [
        "Dictionary comprehensions are similar to list comprehensions, but allow you to easily construct dictionaries. For example:"
      ],
      "id": "15e8c908-3d45-4aac-97f9-152d4760c2f4"
    },
    {
      "cell_type": "code",
      "execution_count": null,
      "metadata": {
        "id": "fc8b5909-6b4f-4cbb-a6fa-d8bbb16c74ca"
      },
      "outputs": [],
      "source": [
        "nums = [0, 1, 2, 3, 4]\n",
        "even_num_to_square = {x: x ** 2 for x in nums if x % 2 == 0}\n",
        "print(even_num_to_square)"
      ],
      "id": "fc8b5909-6b4f-4cbb-a6fa-d8bbb16c74ca"
    },
    {
      "cell_type": "markdown",
      "metadata": {
        "id": "37542d98-0f2e-47f5-afbd-c71f4ddceb7e"
      },
      "source": [
        "### Errors and Exceptions"
      ],
      "id": "37542d98-0f2e-47f5-afbd-c71f4ddceb7e"
    },
    {
      "cell_type": "markdown",
      "metadata": {
        "id": "d5e27f72-65ad-4860-9dcd-566ba4fe9807"
      },
      "source": [
        "When you are working with Python, you are likely to come across errors. When an error occurs, Python tries to explain to you what went wrong, but it takes some experience to interpret the error messages."
      ],
      "id": "d5e27f72-65ad-4860-9dcd-566ba4fe9807"
    },
    {
      "cell_type": "markdown",
      "metadata": {
        "id": "74899e76-617d-4feb-b580-ff103de9bcf9"
      },
      "source": [
        "The code in the following cell will raise a `SyntaxError` because it tries to use a variable name that begins with a number, which is not allowed in Python.\n",
        "\n",
        "Run the code, and look for three key “ingredients” in the error message that is printed to the output:\n",
        "\n",
        "-   the type of error. In this case, it will be a `SyntaxError`. This type of error is raised by the *parser*, which checks to see if the code is valid before passing it to the *runtime* to execute the code.\n",
        "-   an explanation of the error, if available. In this case, the explanation is “invalid syntax”.\n",
        "-   details about where the error was detected. At what line of code, and what point in the line, did the error occur?"
      ],
      "id": "74899e76-617d-4feb-b580-ff103de9bcf9"
    },
    {
      "cell_type": "code",
      "execution_count": null,
      "metadata": {
        "id": "a33dab6a-aff5-4e17-8414-1ec77bd15f80"
      },
      "outputs": [],
      "source": [
        "1st_number = 1"
      ],
      "id": "a33dab6a-aff5-4e17-8414-1ec77bd15f80"
    },
    {
      "cell_type": "markdown",
      "metadata": {
        "id": "74100811-b4d7-4258-b493-ea676539fece"
      },
      "source": [
        "Here are some more examples. Run the following cells, one at a time. Each will trigger an error message. Try to parse the error message by looking for the three “ingredients”.\n",
        "\n",
        "Look up each error type in [the documentation](https://docs.python.org/3/library/exceptions.html). Under what conditions is this error raised?"
      ],
      "id": "74100811-b4d7-4258-b493-ea676539fece"
    },
    {
      "cell_type": "code",
      "execution_count": null,
      "metadata": {
        "id": "4cf83963-c996-4ec5-b977-f5aecfffc35d"
      },
      "outputs": [],
      "source": [
        "x=0\n",
        "x++"
      ],
      "id": "4cf83963-c996-4ec5-b977-f5aecfffc35d"
    },
    {
      "cell_type": "code",
      "execution_count": null,
      "metadata": {
        "id": "1f8397e9-138a-4f4f-a28f-9de7605ac2f5"
      },
      "outputs": [],
      "source": [
        "x=0\n",
        " x=x+1"
      ],
      "id": "1f8397e9-138a-4f4f-a28f-9de7605ac2f5"
    },
    {
      "cell_type": "code",
      "execution_count": null,
      "metadata": {
        "id": "55481ce3-5f36-4f46-85c9-4b2412dad7b7"
      },
      "outputs": [],
      "source": [
        "print('Hello'"
      ],
      "id": "55481ce3-5f36-4f46-85c9-4b2412dad7b7"
    },
    {
      "cell_type": "code",
      "execution_count": null,
      "metadata": {
        "id": "6698fe05-ebc0-4871-a462-7bac131750dd"
      },
      "outputs": [],
      "source": [
        "1 + 'asdf'"
      ],
      "id": "6698fe05-ebc0-4871-a462-7bac131750dd"
    },
    {
      "cell_type": "code",
      "execution_count": null,
      "metadata": {
        "id": "6df0540f-9b2b-40b0-9e09-bd15dbfebf85"
      },
      "outputs": [],
      "source": [
        "import NoSuchLibrary"
      ],
      "id": "6df0540f-9b2b-40b0-9e09-bd15dbfebf85"
    },
    {
      "cell_type": "code",
      "execution_count": null,
      "metadata": {
        "id": "59879ad6-cdb2-4ac6-9367-2e1311e7ac1a"
      },
      "outputs": [],
      "source": [
        "print(xyz)"
      ],
      "id": "59879ad6-cdb2-4ac6-9367-2e1311e7ac1a"
    },
    {
      "cell_type": "code",
      "execution_count": null,
      "metadata": {
        "id": "135127bb-db86-4335-988b-9b7d1944b3f7"
      },
      "outputs": [],
      "source": [
        "x=0\n",
        "5/x"
      ],
      "id": "135127bb-db86-4335-988b-9b7d1944b3f7"
    },
    {
      "cell_type": "markdown",
      "metadata": {
        "id": "df7711a0-e741-43f8-b510-a780ff25ad8a"
      },
      "source": [
        "### Functions"
      ],
      "id": "df7711a0-e741-43f8-b510-a780ff25ad8a"
    },
    {
      "cell_type": "markdown",
      "metadata": {
        "id": "56dadc05-b84c-4494-b4b5-535aec14e7a6"
      },
      "source": [
        "Python functions are defined using the `def` keyword. For example:"
      ],
      "id": "56dadc05-b84c-4494-b4b5-535aec14e7a6"
    },
    {
      "cell_type": "code",
      "execution_count": null,
      "metadata": {
        "id": "3911c811-91e5-4717-a278-0640eddbc960"
      },
      "outputs": [],
      "source": [
        "def sign(x):\n",
        "    if x > 0:\n",
        "        return 'positive'\n",
        "    elif x < 0:\n",
        "        return 'negative'\n",
        "    else:\n",
        "        return 'zero'\n",
        "\n",
        "for x in [-1, 0, 1]:\n",
        "    print(sign(x))"
      ],
      "id": "3911c811-91e5-4717-a278-0640eddbc960"
    },
    {
      "cell_type": "markdown",
      "metadata": {
        "id": "4f423b7e-fb59-4333-940a-410f53428e26"
      },
      "source": [
        "We will often define functions to take optional keyword arguments, like this:"
      ],
      "id": "4f423b7e-fb59-4333-940a-410f53428e26"
    },
    {
      "cell_type": "code",
      "execution_count": null,
      "metadata": {
        "id": "65bb89dc-ba09-46c6-b4b7-d76924b986a4"
      },
      "outputs": [],
      "source": [
        "def hello(name, loud=False):\n",
        "    if loud:\n",
        "        print('HELLO, {}'.format(name.upper()))\n",
        "    else:\n",
        "        print('Hello, {}!'.format(name))\n",
        "\n",
        "hello('Bob')\n",
        "hello('Fred', loud=True)"
      ],
      "id": "65bb89dc-ba09-46c6-b4b7-d76924b986a4"
    },
    {
      "cell_type": "markdown",
      "metadata": {
        "id": "145436b1-9c6d-4e18-8528-d2c69706b822"
      },
      "source": [
        "### Classes"
      ],
      "id": "145436b1-9c6d-4e18-8528-d2c69706b822"
    },
    {
      "cell_type": "markdown",
      "metadata": {
        "id": "0524e7cf-cb4f-4ab4-b247-5faa5ed017fa"
      },
      "source": [
        "The syntax for defining classes in Python is straightforward:"
      ],
      "id": "0524e7cf-cb4f-4ab4-b247-5faa5ed017fa"
    },
    {
      "cell_type": "code",
      "execution_count": null,
      "metadata": {
        "id": "11a1611c-9856-444e-85e4-bc73c23a3376"
      },
      "outputs": [],
      "source": [
        "class Greeter:\n",
        "\n",
        "    # Constructor\n",
        "    def __init__(self, name):\n",
        "        self.name = name  # Create an instance variable\n",
        "\n",
        "    # Instance method\n",
        "    def greet(self, loud=False):\n",
        "        if loud:\n",
        "          print('HELLO, {}'.format(self.name.upper()))\n",
        "        else:\n",
        "          print('Hello, {}!'.format(self.name))\n",
        "\n",
        "g = Greeter('Fred')  # Construct an instance of the Greeter class\n",
        "g.greet()            # Call an instance method; prints \"Hello, Fred\"\n",
        "g.greet(loud=True)   # Call an instance method; prints \"HELLO, FRED!\""
      ],
      "id": "11a1611c-9856-444e-85e4-bc73c23a3376"
    },
    {
      "cell_type": "markdown",
      "metadata": {
        "id": "bf02826b-e527-43b4-a42d-1577c070e3ba"
      },
      "source": [
        "## Numpy"
      ],
      "id": "bf02826b-e527-43b4-a42d-1577c070e3ba"
    },
    {
      "cell_type": "markdown",
      "metadata": {
        "id": "b4cf4645-5505-4059-87fe-1c9c6052958f"
      },
      "source": [
        "Numpy is the core library for scientific computing in Python. It provides a high-performance multidimensional array object, and tools for working with these arrays. If you are already familiar with MATLAB, you might find this [tutorial](http://wiki.scipy.org/NumPy_for_Matlab_Users) useful to get started with Numpy."
      ],
      "id": "b4cf4645-5505-4059-87fe-1c9c6052958f"
    },
    {
      "cell_type": "markdown",
      "metadata": {
        "id": "61e9f793-d834-4362-bd11-47754caa6fd0"
      },
      "source": [
        "To use Numpy, we first need to import the `numpy` package. By convention, we import it using the alias `np`. Then, when we want to use modules or functions in this library, we preface them with `np.`"
      ],
      "id": "61e9f793-d834-4362-bd11-47754caa6fd0"
    },
    {
      "cell_type": "code",
      "execution_count": null,
      "metadata": {
        "id": "03ba5ce8-938d-4219-8237-3e08291c2318"
      },
      "outputs": [],
      "source": [
        "import numpy as np"
      ],
      "id": "03ba5ce8-938d-4219-8237-3e08291c2318"
    },
    {
      "cell_type": "markdown",
      "metadata": {
        "id": "190fe0ab-4ee6-459d-8492-c816258b0286"
      },
      "source": [
        "### Arrays and array construction"
      ],
      "id": "190fe0ab-4ee6-459d-8492-c816258b0286"
    },
    {
      "cell_type": "markdown",
      "metadata": {
        "id": "b86ed7e5-47cf-4dbc-a950-8d6b3ad52f57"
      },
      "source": [
        "A numpy array is a grid of values, all of the same type, and is indexed by a tuple of nonnegative integers. The number of dimensions is the rank of the array; the shape of an array is a tuple of integers giving the size of the array along each dimension."
      ],
      "id": "b86ed7e5-47cf-4dbc-a950-8d6b3ad52f57"
    },
    {
      "cell_type": "markdown",
      "metadata": {
        "id": "0964684d-78c5-4619-8145-d224cffb1d8a"
      },
      "source": [
        "We can create a `numpy` array by passing a Python list to `np.array()`."
      ],
      "id": "0964684d-78c5-4619-8145-d224cffb1d8a"
    },
    {
      "cell_type": "code",
      "source": [
        "import numpy as np"
      ],
      "metadata": {
        "id": "4wP98lccOCu1"
      },
      "id": "4wP98lccOCu1",
      "execution_count": 37,
      "outputs": []
    },
    {
      "cell_type": "code",
      "execution_count": 38,
      "metadata": {
        "id": "8e173212-5a79-437b-a7b6-5346e439de82"
      },
      "outputs": [],
      "source": [
        "a = np.array([1, 2, 3])  # Create a rank 1 array"
      ],
      "id": "8e173212-5a79-437b-a7b6-5346e439de82"
    },
    {
      "cell_type": "code",
      "source": [
        "another = np.array([[1,2,3], [3,5,6]])"
      ],
      "metadata": {
        "id": "7iHeSYGoOFv1"
      },
      "id": "7iHeSYGoOFv1",
      "execution_count": 40,
      "outputs": []
    },
    {
      "cell_type": "code",
      "source": [
        "print(a)\n",
        "print(another)"
      ],
      "metadata": {
        "id": "na2ZIXrAONTi",
        "outputId": "4be9c9ef-ca76-44e8-af3d-dca784cde503",
        "colab": {
          "base_uri": "https://localhost:8080/"
        }
      },
      "id": "na2ZIXrAONTi",
      "execution_count": 41,
      "outputs": [
        {
          "output_type": "stream",
          "name": "stdout",
          "text": [
            "[1 2 3]\n",
            "[[1 2 3]\n",
            " [3 5 6]]\n"
          ]
        }
      ]
    },
    {
      "cell_type": "markdown",
      "metadata": {
        "id": "eb5aac84-6891-446a-9a67-d5f4309f2ba6"
      },
      "source": [
        "This creates the array we can see on the right here:\n",
        "\n",
        "![](http://jalammar.github.io/images/numpy/create-numpy-array-1.png)"
      ],
      "id": "eb5aac84-6891-446a-9a67-d5f4309f2ba6"
    },
    {
      "cell_type": "code",
      "execution_count": 42,
      "metadata": {
        "id": "a5dd201a-213d-417a-8542-e32ceb55a687",
        "outputId": "8825430e-a542-4655-9c54-252453b49c2e",
        "colab": {
          "base_uri": "https://localhost:8080/"
        }
      },
      "outputs": [
        {
          "output_type": "stream",
          "name": "stdout",
          "text": [
            "<class 'numpy.ndarray'> (3,) 1 2 3\n",
            "[5 2 3]\n"
          ]
        }
      ],
      "source": [
        "print(type(a), a.shape, a[0], a[1], a[2])\n",
        "a[0] = 5                 # Change an element of the array\n",
        "print(a)"
      ],
      "id": "a5dd201a-213d-417a-8542-e32ceb55a687"
    },
    {
      "cell_type": "markdown",
      "metadata": {
        "id": "234030fa-8140-4f6e-8b8e-2a94ad931778"
      },
      "source": [
        "To create a `numpy` array with more dimensions, we can pass nested lists, like this:\n",
        "\n",
        "![](http://jalammar.github.io/images/numpy/numpy-array-create-2d.png)\n",
        "\n",
        "![](http://jalammar.github.io/images/numpy/numpy-3d-array.png)"
      ],
      "id": "234030fa-8140-4f6e-8b8e-2a94ad931778"
    },
    {
      "cell_type": "code",
      "execution_count": 43,
      "metadata": {
        "id": "3ff3db12-c0d1-4895-8ba7-200bbdf41d0f",
        "outputId": "2eaa8b92-4e3d-463f-8c11-2fc441678b99",
        "colab": {
          "base_uri": "https://localhost:8080/"
        }
      },
      "outputs": [
        {
          "output_type": "stream",
          "name": "stdout",
          "text": [
            "[[1 2]\n",
            " [3 4]]\n"
          ]
        }
      ],
      "source": [
        "b = np.array([[1,2],[3,4]])   # Create a rank 2 array\n",
        "print(b)"
      ],
      "id": "3ff3db12-c0d1-4895-8ba7-200bbdf41d0f"
    },
    {
      "cell_type": "code",
      "execution_count": 44,
      "metadata": {
        "id": "3898a66e-cde5-4749-980c-f72e5e453a10",
        "outputId": "3c1f977b-615a-4336-bd4e-03f0417cee0e",
        "colab": {
          "base_uri": "https://localhost:8080/"
        }
      },
      "outputs": [
        {
          "output_type": "stream",
          "name": "stdout",
          "text": [
            "(2, 2)\n"
          ]
        }
      ],
      "source": [
        "print(b.shape)"
      ],
      "id": "3898a66e-cde5-4749-980c-f72e5e453a10"
    },
    {
      "cell_type": "code",
      "source": [
        "val = np.zeros((3,3,100,1000))"
      ],
      "metadata": {
        "id": "c2Xqmu2xPDIU"
      },
      "id": "c2Xqmu2xPDIU",
      "execution_count": 50,
      "outputs": []
    },
    {
      "cell_type": "code",
      "source": [
        "np.ravel(val)"
      ],
      "metadata": {
        "id": "onnVBkAIPbYE",
        "outputId": "02c8a302-6b1d-4f21-fcf9-d1c5b1e38823",
        "colab": {
          "base_uri": "https://localhost:8080/"
        }
      },
      "id": "onnVBkAIPbYE",
      "execution_count": 51,
      "outputs": [
        {
          "output_type": "execute_result",
          "data": {
            "text/plain": [
              "array([0., 0., 0., ..., 0., 0., 0.])"
            ]
          },
          "metadata": {},
          "execution_count": 51
        }
      ]
    },
    {
      "cell_type": "code",
      "source": [
        "np.random.random((3,100)) *100"
      ],
      "metadata": {
        "id": "iB_72lY3PoI_",
        "outputId": "112e6cf1-86ba-41e1-f2b3-3749dac65025",
        "colab": {
          "base_uri": "https://localhost:8080/"
        }
      },
      "id": "iB_72lY3PoI_",
      "execution_count": 54,
      "outputs": [
        {
          "output_type": "execute_result",
          "data": {
            "text/plain": [
              "array([[38.44425699,  2.42980502,  7.40511443, 15.82572529, 86.87994186,\n",
              "        59.56406523, 27.17354646, 98.37826534, 61.14852489, 61.77492706,\n",
              "        38.28085944, 81.94256498, 64.28243545,  6.52169183, 62.31106488,\n",
              "         1.91477963, 67.47433614, 66.21824616, 89.17704954, 84.71287146,\n",
              "        89.06318793,  9.76809739, 49.03627495, 85.11985326, 90.1246918 ,\n",
              "        66.19970788, 76.893474  , 19.0618072 , 71.51220087, 42.1448702 ,\n",
              "        30.21741131, 95.68517103, 65.4885725 , 91.61602405, 23.75231243,\n",
              "        48.10208229, 87.60475941, 48.96461535, 88.06604347, 73.71538537,\n",
              "         6.06109833, 70.43273014, 69.07145163, 88.85664256, 23.28166026,\n",
              "        13.33100128, 62.13764764, 11.22179046, 11.90492146, 64.50618291,\n",
              "        64.62692752, 47.36832052, 81.66175196, 47.94544847, 12.43439157,\n",
              "        55.6147744 , 27.27937161, 53.97737235, 39.0128595 , 77.2697474 ,\n",
              "         5.24411769, 90.70849252, 20.03130417, 18.9847491 , 74.37852125,\n",
              "        55.07912719, 62.20092714, 81.49521053,  7.67529235, 68.74729275,\n",
              "        75.99795109, 98.08184468, 51.15200195, 20.22199935, 36.68852839,\n",
              "         5.58232547,  1.09092035, 40.20438514, 70.8465899 ,  8.88392962,\n",
              "         5.68942042, 73.64370715, 93.87307434,  9.02734287, 59.31313988,\n",
              "        85.36526327, 57.56083324, 69.27069904,  0.13173657, 98.94209632,\n",
              "        17.91648522,  1.2789198 ,  2.35709853, 25.08009092, 60.79416708,\n",
              "        95.15632147, 86.39349775, 87.01229712,  1.57569026, 17.96795336],\n",
              "       [25.64819638, 50.93447091,  7.28089391, 85.7937145 , 78.03003009,\n",
              "        83.64527686, 79.72587778, 36.51279831, 24.05401892, 71.18741131,\n",
              "        94.89945174, 27.04087284, 15.17585893, 53.67979912, 95.88787837,\n",
              "        89.17800605, 15.73279593, 95.10532256,  3.0500053 , 44.99320352,\n",
              "        40.96612546, 86.14211473, 87.95313426, 63.8118784 , 24.99795892,\n",
              "        44.90401905, 67.68290332, 18.94795206, 22.24611374, 50.10310318,\n",
              "        68.05728913, 48.30892977, 78.88149938, 91.1609452 ,  9.75658462,\n",
              "        73.50303348, 99.06864009, 94.71342381, 32.50904971, 16.91614176,\n",
              "        77.39906659, 65.99593777,  7.59885398, 79.74413217, 23.15190945,\n",
              "        99.2330282 ,  0.5484697 , 19.75602861, 92.37906944, 11.92661395,\n",
              "        51.87045117, 67.38084337, 78.19888696, 42.48929593, 33.67386499,\n",
              "         5.56349161, 40.09659532, 20.06271145, 22.67108656, 38.87756091,\n",
              "        33.53787419, 40.68912787, 86.70137725, 75.34026018, 54.04627404,\n",
              "        86.06119963, 44.49577806,  2.50916106, 60.42369131, 64.83701161,\n",
              "        83.75461642, 39.30916723, 68.27722895,  0.71990439,  7.82007465,\n",
              "        39.63745036, 17.29861728, 10.23730164, 28.2208602 , 79.36699325,\n",
              "        30.48864282,  2.3280651 , 14.62375215, 44.52407994, 10.91857686,\n",
              "        45.41961574, 85.9410705 , 87.82777405,  8.54165572, 79.01738391,\n",
              "        20.49137291, 67.69934197, 50.66429756, 32.9149089 , 85.00491876,\n",
              "        93.72368328, 87.78444754, 81.84232371, 32.05374506, 49.72887193],\n",
              "       [14.34909603, 93.46421132, 20.12080166, 54.49015845, 32.57928467,\n",
              "        29.37808012, 14.205988  ,  9.50722741, 27.71269732, 32.73052636,\n",
              "        80.37594541, 41.6118765 , 90.68488572,  7.70414408, 50.98877902,\n",
              "        76.08133739,  4.81443995, 99.4509847 , 38.99412652, 65.3584487 ,\n",
              "         1.25256889, 55.35077982, 98.2766611 , 14.11790378, 65.34043174,\n",
              "        64.85872931, 48.48350321, 78.60301875, 92.16295172, 75.66372529,\n",
              "        31.34954196,  6.4643141 , 76.21265457, 77.06478119, 84.33134791,\n",
              "        32.34837861, 83.96262431, 62.88047775, 97.03689797, 36.71350374,\n",
              "        79.57344006, 88.99669979, 17.04374403, 94.19174855, 41.57591288,\n",
              "        35.3707024 , 37.52525553, 28.26411996, 82.43506506, 63.23427153,\n",
              "        85.87056687, 52.74123305,  4.01096603, 89.90343213, 15.1238478 ,\n",
              "        60.99108691, 60.87314175, 67.28853738, 94.96295475,  3.45086412,\n",
              "        89.35433461, 67.96328856, 24.02010651, 77.15786655, 26.4833517 ,\n",
              "        59.38786656, 69.1191369 ,  4.44346117, 97.14473692, 50.93065447,\n",
              "        12.48784826, 32.25908176, 31.49891135, 86.06369261, 78.25152853,\n",
              "        97.70372866, 92.22001997,  9.41086956, 14.34431628, 48.4594519 ,\n",
              "        31.23801706, 21.67835883, 34.94408578, 74.37985166, 44.90388283,\n",
              "        25.59251301, 44.23863605, 14.98740354, 71.21094758,  9.5622789 ,\n",
              "        43.08553672, 56.31007167, 70.48018957, 27.97890862, 71.56699435,\n",
              "        31.09144256, 42.68640201, 25.1882292 , 47.81733566, 53.74513029]])"
            ]
          },
          "metadata": {},
          "execution_count": 54
        }
      ]
    },
    {
      "cell_type": "markdown",
      "metadata": {
        "id": "59994140-982d-44d4-b735-c368cf11ab8c"
      },
      "source": [
        "There are often cases when we want numpy to initialize the values of the array for us. numpy provides methods like `ones()`, `zeros()`, and `random.random()` for these cases. We just pass them the number of elements we want it to generate:\n",
        "\n",
        "![](http://jalammar.github.io/images/numpy/create-numpy-array-ones-zeros-random.png)"
      ],
      "id": "59994140-982d-44d4-b735-c368cf11ab8c"
    },
    {
      "cell_type": "markdown",
      "metadata": {
        "id": "f5cd30f4-91ac-421a-b25a-8cfbddb518c7"
      },
      "source": [
        "We can also use these methods to produce multi-dimensional arrays, as long as we pass them a tuple describing the dimensions of the matrix we want to create:\n",
        "\n",
        "![](http://jalammar.github.io/images/numpy/numpy-matrix-ones-zeros-random.png)\n",
        "\n",
        "![](http://jalammar.github.io/images/numpy/numpy-3d-array-creation.png)"
      ],
      "id": "f5cd30f4-91ac-421a-b25a-8cfbddb518c7"
    },
    {
      "cell_type": "markdown",
      "metadata": {
        "id": "735fccf7-462b-4091-9c87-d1ea8add559c"
      },
      "source": [
        "Sometimes, we need an array of a specific shape with “placeholder” values that we plan to fill in with the result of a computation. The `zeros` or `ones` functions are handy for this:"
      ],
      "id": "735fccf7-462b-4091-9c87-d1ea8add559c"
    },
    {
      "cell_type": "code",
      "execution_count": null,
      "metadata": {
        "id": "61dddfaf-a5eb-4d3d-a59d-85ea7e18d71a"
      },
      "outputs": [],
      "source": [
        "a = np.zeros((2,2))  # Create an array of all zeros\n",
        "print(a)"
      ],
      "id": "61dddfaf-a5eb-4d3d-a59d-85ea7e18d71a"
    },
    {
      "cell_type": "code",
      "execution_count": null,
      "metadata": {
        "id": "aab64565-d940-42ae-915b-58c564384d48"
      },
      "outputs": [],
      "source": [
        "b = np.ones((1,2))   # Create an array of all ones\n",
        "print(b)"
      ],
      "id": "aab64565-d940-42ae-915b-58c564384d48"
    },
    {
      "cell_type": "code",
      "execution_count": 59,
      "metadata": {
        "id": "121ece5c-b965-44a1-9643-44c4b29e1c5a",
        "outputId": "7242ef55-14de-4c23-d18c-a0917453dc10",
        "colab": {
          "base_uri": "https://localhost:8080/"
        }
      },
      "outputs": [
        {
          "output_type": "stream",
          "name": "stdout",
          "text": [
            "[[5 5 5 5]\n",
            " [5 5 5 5]]\n"
          ]
        }
      ],
      "source": [
        "c = np.full((2,4), 5) # Create a constant array\n",
        "print(c)"
      ],
      "id": "121ece5c-b965-44a1-9643-44c4b29e1c5a"
    },
    {
      "cell_type": "code",
      "execution_count": 60,
      "metadata": {
        "id": "70627e5f-197d-46cf-984e-dfba32277650",
        "outputId": "2e67c0a0-4d20-440a-e671-49187c3ad41b",
        "colab": {
          "base_uri": "https://localhost:8080/"
        }
      },
      "outputs": [
        {
          "output_type": "stream",
          "name": "stdout",
          "text": [
            "[[1. 0.]\n",
            " [0. 1.]]\n"
          ]
        }
      ],
      "source": [
        "d = np.eye(2)        # Create a 2x2 identity matrix\n",
        "print(d)"
      ],
      "id": "70627e5f-197d-46cf-984e-dfba32277650"
    },
    {
      "cell_type": "code",
      "execution_count": 61,
      "metadata": {
        "id": "6f0c09f0-3894-47fd-a349-4ecc04fb9aad",
        "outputId": "7a2bc432-0223-4021-81ac-ec67b2af2a1b",
        "colab": {
          "base_uri": "https://localhost:8080/"
        }
      },
      "outputs": [
        {
          "output_type": "stream",
          "name": "stdout",
          "text": [
            "[[0.52390858 0.43789331]\n",
            " [0.37651561 0.42502777]]\n"
          ]
        }
      ],
      "source": [
        "e = np.random.random((2,2)) # Create an array filled with random values\n",
        "print(e)"
      ],
      "id": "6f0c09f0-3894-47fd-a349-4ecc04fb9aad"
    },
    {
      "cell_type": "markdown",
      "metadata": {
        "id": "8e48ce8d-88dc-4a78-9c5c-1c1edf7e02cb"
      },
      "source": [
        "Lastly, I want to mention two very useful functions for creating sequences of numbers within a specified range, namely, arange and linspace. NumPy’s arange function follows the same syntax as Python’s range objects: If two arguments are provided, the first argument represents the start value and the second value defines the stop value of a half-open interval:"
      ],
      "id": "8e48ce8d-88dc-4a78-9c5c-1c1edf7e02cb"
    },
    {
      "cell_type": "markdown",
      "metadata": {
        "id": "64c38479-b55e-4dfc-8474-90d4782c0722"
      },
      "source": [
        "Numpy also has two useful functions for creating sequences of numbers: `arange` and `linspace`.\n",
        "\n",
        "The `arange` function accepts three arguments, which define the start value, stop value of a half-open interval, and step size. (The default step size, if not explicitly specified, is 1; the default start value, if not explicitly specified, is 0.)\n",
        "\n",
        "The `linspace` function is similar, but we can specify the number of values instead of the step size, and it will create a sequence of evenly spaced values."
      ],
      "id": "64c38479-b55e-4dfc-8474-90d4782c0722"
    },
    {
      "cell_type": "code",
      "execution_count": null,
      "metadata": {
        "id": "1c6208b2-5503-4fb0-9902-439bf83df7b0"
      },
      "outputs": [],
      "source": [
        "f = np.arange(10,50,5)   # Create an array of values starting at 10 in increments of 5\n",
        "print(f)"
      ],
      "id": "1c6208b2-5503-4fb0-9902-439bf83df7b0"
    },
    {
      "cell_type": "markdown",
      "metadata": {
        "id": "9d78987c-9542-4ecf-8ce5-153be2bc29a2"
      },
      "source": [
        "Note this ends on 45, not 50 (does not include the top end of the interval)."
      ],
      "id": "9d78987c-9542-4ecf-8ce5-153be2bc29a2"
    },
    {
      "cell_type": "code",
      "execution_count": 63,
      "metadata": {
        "id": "9e23b524-d187-4da2-bc91-6fb6ea401764",
        "outputId": "d614342b-6686-4e80-8fd9-93edb5db40bb",
        "colab": {
          "base_uri": "https://localhost:8080/"
        }
      },
      "outputs": [
        {
          "output_type": "stream",
          "name": "stdout",
          "text": [
            "[ 10.   32.5  55.   77.5 100. ]\n"
          ]
        }
      ],
      "source": [
        "g = np.linspace(10., 100., num=5)\n",
        "print(g)"
      ],
      "id": "9e23b524-d187-4da2-bc91-6fb6ea401764"
    },
    {
      "cell_type": "markdown",
      "metadata": {
        "id": "4a46dbd6-7be1-4cff-99b0-0fa9727e638f"
      },
      "source": [
        "Sometimes, we may want to construct an array from existing arrays by “stacking” the existing arrays, either vertically or horizontally. We can use `vstack()` (or `row_stack`) and `hstack()` (or `column_stack`), respectively."
      ],
      "id": "4a46dbd6-7be1-4cff-99b0-0fa9727e638f"
    },
    {
      "cell_type": "code",
      "execution_count": 64,
      "metadata": {
        "id": "8f18be1e-aaf6-4434-83fd-beb4a5f12375",
        "outputId": "d078f5a9-bb73-447a-968d-335985f5e9f8",
        "colab": {
          "base_uri": "https://localhost:8080/"
        }
      },
      "outputs": [
        {
          "output_type": "execute_result",
          "data": {
            "text/plain": [
              "array([[1, 2, 3],\n",
              "       [4, 5, 6]])"
            ]
          },
          "metadata": {},
          "execution_count": 64
        }
      ],
      "source": [
        "a = np.array([1, 2, 3])\n",
        "b = np.array([4, 5, 6])\n",
        "np.vstack((a,b))"
      ],
      "id": "8f18be1e-aaf6-4434-83fd-beb4a5f12375"
    },
    {
      "cell_type": "code",
      "execution_count": 65,
      "metadata": {
        "id": "1b2c6801-7af0-4b5d-a6cc-8e95997c50b4",
        "outputId": "7226c055-4e3b-4d25-f5f8-2ea733a4266c",
        "colab": {
          "base_uri": "https://localhost:8080/"
        }
      },
      "outputs": [
        {
          "output_type": "execute_result",
          "data": {
            "text/plain": [
              "array([[7, 4],\n",
              "       [8, 5],\n",
              "       [9, 6]])"
            ]
          },
          "metadata": {},
          "execution_count": 65
        }
      ],
      "source": [
        "a = np.array([[7], [8], [9]])\n",
        "b = np.array([[4], [5], [6]])\n",
        "np.hstack((a,b))"
      ],
      "id": "1b2c6801-7af0-4b5d-a6cc-8e95997c50b4"
    },
    {
      "cell_type": "markdown",
      "metadata": {
        "id": "e5fcad1c-e41e-49cf-b525-d1346167594a"
      },
      "source": [
        "### Array indexing"
      ],
      "id": "e5fcad1c-e41e-49cf-b525-d1346167594a"
    },
    {
      "cell_type": "markdown",
      "metadata": {
        "id": "83f93d78-5e62-45d1-a37f-3083dd808190"
      },
      "source": [
        "Numpy offers several ways to index into arrays."
      ],
      "id": "83f93d78-5e62-45d1-a37f-3083dd808190"
    },
    {
      "cell_type": "markdown",
      "metadata": {
        "id": "054e77f3-7369-426c-99ee-79ef4ad3252a"
      },
      "source": [
        "We can index and slice numpy arrays in all the ways we can slice Python lists:\n",
        "\n",
        "![](http://jalammar.github.io/images/numpy/numpy-array-slice.png)\n",
        "\n",
        "And you can index and slice numpy arrays in multiple dimensions. If slicing an array with more than one dimension, you should specify a slice for each dimension:\n",
        "\n",
        "![](http://jalammar.github.io/images/numpy/numpy-matrix-indexing.png)"
      ],
      "id": "054e77f3-7369-426c-99ee-79ef4ad3252a"
    },
    {
      "cell_type": "code",
      "execution_count": null,
      "metadata": {
        "id": "d94de2b0-983c-45ca-b36c-524a2db3a32c"
      },
      "outputs": [],
      "source": [
        "# Create the following rank 2 array with shape (3, 4)\n",
        "# [[ 1  2  3  4]\n",
        "#  [ 5  6  7  8]\n",
        "#  [ 9 10 11 12]]\n",
        "a = np.array([[1,2,3,4], [5,6,7,8], [9,10,11,12]])\n",
        "\n",
        "# Use slicing to pull out the subarray consisting of the first 2 rows\n",
        "# and columns 1 and 2; b is the following array of shape (2, 2):\n",
        "# [[2 3]\n",
        "#  [6 7]]\n",
        "b = a[:2, 1:3]\n",
        "print(b)"
      ],
      "id": "d94de2b0-983c-45ca-b36c-524a2db3a32c"
    },
    {
      "cell_type": "markdown",
      "metadata": {
        "id": "fadca993-9d2e-4dde-9388-6415fadeef98"
      },
      "source": [
        "A slice of an array is a view into the same data, so modifying it will modify the original array."
      ],
      "id": "fadca993-9d2e-4dde-9388-6415fadeef98"
    },
    {
      "cell_type": "code",
      "execution_count": null,
      "metadata": {
        "id": "1041b4a5-4e49-4119-917e-615561fcf570"
      },
      "outputs": [],
      "source": [
        "print(a[0, 1])\n",
        "b[0, 0] = 77    # b[0, 0] is the same piece of data as a[0, 1]\n",
        "print(a[0, 1])"
      ],
      "id": "1041b4a5-4e49-4119-917e-615561fcf570"
    },
    {
      "cell_type": "markdown",
      "metadata": {
        "id": "995e2a9c-2f80-469e-a40c-76a1d94a5841"
      },
      "source": [
        "You can also mix integer indexing with slice indexing. However, doing so will yield an array of lower rank than the original array. Note that this is quite different from the way that MATLAB handles array slicing:"
      ],
      "id": "995e2a9c-2f80-469e-a40c-76a1d94a5841"
    },
    {
      "cell_type": "code",
      "execution_count": null,
      "metadata": {
        "id": "b608b60c-5379-497f-9e11-d8f2caf05c55"
      },
      "outputs": [],
      "source": [
        "# Create the following rank 2 array with shape (3, 4)\n",
        "a = np.array([[1,2,3,4], [5,6,7,8], [9,10,11,12]])\n",
        "print(a)"
      ],
      "id": "b608b60c-5379-497f-9e11-d8f2caf05c55"
    },
    {
      "cell_type": "markdown",
      "metadata": {
        "id": "58f38253-463c-48d0-a702-3ddf94120629"
      },
      "source": [
        "Two ways of accessing the data in the middle row of the array. Mixing integer indexing with slices yields an array of lower rank, while using only slices yields an array of the same rank as the original array:"
      ],
      "id": "58f38253-463c-48d0-a702-3ddf94120629"
    },
    {
      "cell_type": "code",
      "execution_count": null,
      "metadata": {
        "id": "0c3dd6e7-04b8-4f7a-b233-117cde5e2b4e"
      },
      "outputs": [],
      "source": [
        "row_r1 = a[1, :]    # Rank 1 view of the second row of a\n",
        "row_r2 = a[1:2, :]  # Rank 2 view of the second row of a\n",
        "row_r3 = a[[1], :]  # Rank 2 view of the second row of a\n",
        "print(row_r1, row_r1.shape)\n",
        "print(row_r2, row_r2.shape)\n",
        "print(row_r3, row_r3.shape)"
      ],
      "id": "0c3dd6e7-04b8-4f7a-b233-117cde5e2b4e"
    },
    {
      "cell_type": "code",
      "execution_count": null,
      "metadata": {
        "id": "d1c9bb25-d326-454b-89e3-be5139149855"
      },
      "outputs": [],
      "source": [
        "# We can make the same distinction when accessing columns of an array:\n",
        "col_r1 = a[:, 1]\n",
        "col_r2 = a[:, 1:2]\n",
        "print(col_r1, col_r1.shape)\n",
        "print()\n",
        "print(col_r2, col_r2.shape)"
      ],
      "id": "d1c9bb25-d326-454b-89e3-be5139149855"
    },
    {
      "cell_type": "markdown",
      "metadata": {
        "id": "a7835461-34e9-4437-8f9b-ad6b909de079"
      },
      "source": [
        "Integer array indexing: When you index into numpy arrays using slicing, the resulting array view will always be a subarray of the original array. In contrast, integer array indexing allows you to construct arbitrary arrays using the data from another array. Here is an example:"
      ],
      "id": "a7835461-34e9-4437-8f9b-ad6b909de079"
    },
    {
      "cell_type": "code",
      "execution_count": null,
      "metadata": {
        "id": "806d91e7-981a-4955-9e1b-ea0226eec00e"
      },
      "outputs": [],
      "source": [
        "a = np.array([[1,2], [3, 4], [5, 6]])\n",
        "\n",
        "# An example of integer array indexing.\n",
        "# The returned array will have shape (3,) and\n",
        "print(a[[0, 1, 2], [0, 1, 0]])\n",
        "\n",
        "# The above example of integer array indexing is equivalent to this:\n",
        "print(np.array([a[0, 0], a[1, 1], a[2, 0]]))"
      ],
      "id": "806d91e7-981a-4955-9e1b-ea0226eec00e"
    },
    {
      "cell_type": "code",
      "execution_count": null,
      "metadata": {
        "id": "07ae8f7b-ea13-4cfe-b26a-3fb6cdda4bdd"
      },
      "outputs": [],
      "source": [
        "# When using integer array indexing, you can reuse the same\n",
        "# element from the source array:\n",
        "print(a[[0, 0], [1, 1]])\n",
        "\n",
        "# Equivalent to the previous integer array indexing example\n",
        "print(np.array([a[0, 1], a[0, 1]]))"
      ],
      "id": "07ae8f7b-ea13-4cfe-b26a-3fb6cdda4bdd"
    },
    {
      "cell_type": "markdown",
      "metadata": {
        "id": "24ebdd61-2313-4aec-a02a-e4b898906ec5"
      },
      "source": [
        "One useful trick with integer array indexing is selecting or mutating one element from each row of a matrix:"
      ],
      "id": "24ebdd61-2313-4aec-a02a-e4b898906ec5"
    },
    {
      "cell_type": "code",
      "execution_count": null,
      "metadata": {
        "id": "1260ecb9-799c-4a08-8d77-5da2abc5db8f"
      },
      "outputs": [],
      "source": [
        "# Create a new array from which we will select elements\n",
        "a = np.array([[1,2,3], [4,5,6], [7,8,9], [10, 11, 12]])\n",
        "print(a)"
      ],
      "id": "1260ecb9-799c-4a08-8d77-5da2abc5db8f"
    },
    {
      "cell_type": "code",
      "execution_count": null,
      "metadata": {
        "id": "76d3c86a-3d03-423d-909b-09598b903965"
      },
      "outputs": [],
      "source": [
        "# Create an array of indices\n",
        "b = np.array([0, 2, 0, 1])\n",
        "\n",
        "# Select one element from each row of a using the indices in b\n",
        "print(a[np.arange(4), b])  # Prints \"[ 1  6  7 11]\""
      ],
      "id": "76d3c86a-3d03-423d-909b-09598b903965"
    },
    {
      "cell_type": "code",
      "execution_count": null,
      "metadata": {
        "id": "4a3a192e-ba4f-481e-92c5-2b625bcb2a80"
      },
      "outputs": [],
      "source": [
        "# Mutate one element from each row of a using the indices in b\n",
        "a[np.arange(4), b] += 10\n",
        "print(a)"
      ],
      "id": "4a3a192e-ba4f-481e-92c5-2b625bcb2a80"
    },
    {
      "cell_type": "markdown",
      "metadata": {
        "id": "e61369aa-296b-428c-84df-54a0e3a69e31"
      },
      "source": [
        "Boolean array indexing: Boolean array indexing lets you pick out arbitrary elements of an array. Frequently this type of indexing is used to select the elements of an array that satisfy some condition. Here is an example:"
      ],
      "id": "e61369aa-296b-428c-84df-54a0e3a69e31"
    },
    {
      "cell_type": "code",
      "execution_count": null,
      "metadata": {
        "id": "92dd26a4-a2d2-4d0d-9d9a-6c9de8d4dbcd"
      },
      "outputs": [],
      "source": [
        "import numpy as np\n",
        "\n",
        "a = np.array([[1,2], [3, 4], [5, 6]])\n",
        "\n",
        "bool_idx = (a > 2)  # Find the elements of a that are bigger than 2;\n",
        "                    # this returns a numpy array of Booleans of the same\n",
        "                    # shape as a, where each slot of bool_idx tells\n",
        "                    # whether that element of a is > 2.\n",
        "\n",
        "print(bool_idx)"
      ],
      "id": "92dd26a4-a2d2-4d0d-9d9a-6c9de8d4dbcd"
    },
    {
      "cell_type": "code",
      "execution_count": null,
      "metadata": {
        "id": "52f31c05-406f-4c5d-ad25-212194c69cd0"
      },
      "outputs": [],
      "source": [
        "# We use boolean array indexing to construct a rank 1 array\n",
        "# consisting of the elements of a corresponding to the True values\n",
        "# of bool_idx\n",
        "print(a[bool_idx])\n",
        "\n",
        "# We can do all of the above in a single concise statement:\n",
        "print(a[a > 2])"
      ],
      "id": "52f31c05-406f-4c5d-ad25-212194c69cd0"
    },
    {
      "cell_type": "markdown",
      "metadata": {
        "id": "ebb38476-c368-49d4-87cf-ac5c57c7eca8"
      },
      "source": [
        "When working with numpy arrays, it’s often helpful to get the *indices* (not only the values) of array elements that meet certain conditions. There are a few numpy functions that you’ll definitely want to remember:\n",
        "\n",
        "-   [`argmax`](https://numpy.org/doc/stable/reference/generated/numpy.argmax.html) (get index of maximum element in array)\n",
        "-   [`argmin`](https://numpy.org/doc/stable/reference/generated/numpy.argmin.html) (get index of minimum element in array)\n",
        "-   [`argsort`](https://numpy.org/doc/stable/reference/generated/numpy.argsort.html) (get sorted list of indices, by element value, in ascending order)\n",
        "-   [`where`](https://numpy.org/doc/stable/reference/generated/numpy.where.html) (get indices of elements that meet some condition)"
      ],
      "id": "ebb38476-c368-49d4-87cf-ac5c57c7eca8"
    },
    {
      "cell_type": "code",
      "execution_count": null,
      "metadata": {
        "id": "c26e1c0c-8c12-4df9-99cd-9614e36b64ae"
      },
      "outputs": [],
      "source": [
        "a = np.array([1, 8, 9, -3, 2, 4, 7, 9])\n",
        "\n",
        "# Get the index of the maximum element in a\n",
        "print(np.argmax(a))\n",
        "\n",
        "# Get the index of the minimum element in a\n",
        "# (this array has two elements with the maximum value -\n",
        "# only one index is returned)\n",
        "print(np.argmin(a))\n",
        "\n",
        "# Get sorted list of indices\n",
        "print(np.argsort(a))\n",
        "\n",
        "# Get sorted list of indices in descending order\n",
        "# [::-1] is a special slicing index that returns the reversed list\n",
        "print(np.argsort(a)[::-1])\n",
        "\n",
        "# Get indices of elements that meet some condition\n",
        "# this returns a tuple, the list of indices is the first entry\n",
        "# so we use [0] to get it\n",
        "print(np.where(a > 5)[0])\n",
        "\n",
        "# Get indices of elements that meet some condition\n",
        "# this example shows how to get the index of *all* the max values\n",
        "print(np.where(a >= a[np.argmax(a)])[0])"
      ],
      "id": "c26e1c0c-8c12-4df9-99cd-9614e36b64ae"
    },
    {
      "cell_type": "markdown",
      "metadata": {
        "id": "83e9e67d-6b7c-4b76-897a-ed48c3d578f9"
      },
      "source": [
        "For brevity we have left out a lot of details about numpy array indexing; if you want to know more you should read the documentation."
      ],
      "id": "83e9e67d-6b7c-4b76-897a-ed48c3d578f9"
    },
    {
      "cell_type": "markdown",
      "metadata": {
        "id": "7ab927d6-f7d6-4b6f-ad1d-60451d55b670"
      },
      "source": [
        "### Datatypes"
      ],
      "id": "7ab927d6-f7d6-4b6f-ad1d-60451d55b670"
    },
    {
      "cell_type": "markdown",
      "metadata": {
        "id": "3ccb9dea-1ee7-42e8-b5b9-a623fe7ab745"
      },
      "source": [
        "Every numpy array is a grid of elements of the same type. Numpy provides a large set of numeric datatypes that you can use to construct arrays. Numpy tries to guess a datatype when you create an array, but functions that construct arrays usually also include an optional argument to explicitly specify the datatype. Here is an example:"
      ],
      "id": "3ccb9dea-1ee7-42e8-b5b9-a623fe7ab745"
    },
    {
      "cell_type": "code",
      "execution_count": null,
      "metadata": {
        "id": "2b021a07-6390-4216-931d-06bf28a996dc"
      },
      "outputs": [],
      "source": [
        "x = np.array([1, 2])  # Let numpy choose the datatype\n",
        "y = np.array([1.0, 2.0])  # Let numpy choose the datatype\n",
        "z = np.array([1, 2], dtype=np.int64)  # Force a particular datatype\n",
        "\n",
        "print(x.dtype, y.dtype, z.dtype)"
      ],
      "id": "2b021a07-6390-4216-931d-06bf28a996dc"
    },
    {
      "cell_type": "markdown",
      "metadata": {
        "id": "b884c694-57a4-49d3-9df5-8a6898934831"
      },
      "source": [
        "You can read all about numpy datatypes in the [documentation](http://docs.scipy.org/doc/numpy/reference/arrays.dtypes.html)."
      ],
      "id": "b884c694-57a4-49d3-9df5-8a6898934831"
    },
    {
      "cell_type": "markdown",
      "metadata": {
        "id": "cb3c901b-b344-400d-9e0f-b2fa70e28e4d"
      },
      "source": [
        "### Array math"
      ],
      "id": "cb3c901b-b344-400d-9e0f-b2fa70e28e4d"
    },
    {
      "cell_type": "markdown",
      "metadata": {
        "id": "2fea02dd-c4f7-4bd4-8006-9a2cb0c7cef2"
      },
      "source": [
        "What makes working with `numpy` so powerful and convenient is that it comes with many *vectorized* math functions for computation over elements of an array. These functions are highly optimized and are *very* fast - much, much faster than using an explicit `for` loop.\n",
        "\n",
        "For example, let’s create a large array of random values and then sum it both ways. We’ll use a `%%time` *cell magic* to time them."
      ],
      "id": "2fea02dd-c4f7-4bd4-8006-9a2cb0c7cef2"
    },
    {
      "cell_type": "code",
      "execution_count": null,
      "metadata": {
        "id": "92314cea-6001-4207-b40e-d0208a1597e2"
      },
      "outputs": [],
      "source": [
        "a = np.random.random(100000000)"
      ],
      "id": "92314cea-6001-4207-b40e-d0208a1597e2"
    },
    {
      "cell_type": "code",
      "execution_count": null,
      "metadata": {
        "id": "33a4e0ed-340e-436c-882a-df2224c8af21"
      },
      "outputs": [],
      "source": [
        "%%time\n",
        "x = np.sum(a)"
      ],
      "id": "33a4e0ed-340e-436c-882a-df2224c8af21"
    },
    {
      "cell_type": "code",
      "execution_count": null,
      "metadata": {
        "id": "7252032c-bc87-4124-bb9d-0d2fada3e226"
      },
      "outputs": [],
      "source": [
        "%%time\n",
        "x = 0\n",
        "for element in a:\n",
        "  x = x + element"
      ],
      "id": "7252032c-bc87-4124-bb9d-0d2fada3e226"
    },
    {
      "cell_type": "markdown",
      "metadata": {
        "id": "c75990d9-6999-40a2-a0e3-e8207110676a"
      },
      "source": [
        "Look at the “Wall Time” in the output - note how much faster the vectorized version of the operation is! This type of fast computation is a major enabler of machine learning, which requires a *lot* of computation.\n",
        "\n",
        "Whenever possible, we will try to use these vectorized operations."
      ],
      "id": "c75990d9-6999-40a2-a0e3-e8207110676a"
    },
    {
      "cell_type": "markdown",
      "metadata": {
        "id": "b2120332-98ac-4685-9488-054a21ec141f"
      },
      "source": [
        "Some mathematic functions are available both as operator overloads and as functions in the numpy module."
      ],
      "id": "b2120332-98ac-4685-9488-054a21ec141f"
    },
    {
      "cell_type": "markdown",
      "metadata": {
        "id": "604243cf-4411-44a3-9b25-789631caf959"
      },
      "source": [
        "For example, you can perform an elementwise sum on two arrays using either the + operator or the `add()` function.\n",
        "\n",
        "![](http://jalammar.github.io/images/numpy/numpy-arrays-adding-1.png)\n",
        "\n",
        "![](http://jalammar.github.io/images/numpy/numpy-matrix-arithmetic.png)"
      ],
      "id": "604243cf-4411-44a3-9b25-789631caf959"
    },
    {
      "cell_type": "code",
      "execution_count": null,
      "metadata": {
        "id": "e6d49bb6-ebfe-4416-8a7f-c1f5b77e5e8a"
      },
      "outputs": [],
      "source": [
        "x = np.array([[1,2],[3,4]], dtype=np.float64)\n",
        "y = np.array([[5,6],[7,8]], dtype=np.float64)\n",
        "\n",
        "# Elementwise sum; both produce the array\n",
        "print(x + y)\n",
        "print(np.add(x, y))"
      ],
      "id": "e6d49bb6-ebfe-4416-8a7f-c1f5b77e5e8a"
    },
    {
      "cell_type": "markdown",
      "metadata": {
        "id": "66adf079-d0e8-4ceb-ae88-4e78447bb6d5"
      },
      "source": [
        "And this works for other operations as well, not only addition:\n",
        "\n",
        "![](http://jalammar.github.io/images/numpy/numpy-array-subtract-multiply-divide.png)"
      ],
      "id": "66adf079-d0e8-4ceb-ae88-4e78447bb6d5"
    },
    {
      "cell_type": "code",
      "execution_count": null,
      "metadata": {
        "id": "83178bc8-6909-42ad-af86-1a7a76516a4c"
      },
      "outputs": [],
      "source": [
        "# Elementwise difference; both produce the array\n",
        "print(x - y)\n",
        "print(np.subtract(x, y))"
      ],
      "id": "83178bc8-6909-42ad-af86-1a7a76516a4c"
    },
    {
      "cell_type": "code",
      "execution_count": null,
      "metadata": {
        "id": "3bbca1af-53ab-44d7-a9df-e5a69463f715"
      },
      "outputs": [],
      "source": [
        "# Elementwise product; both produce the array\n",
        "print(x * y)\n",
        "print(np.multiply(x, y))"
      ],
      "id": "3bbca1af-53ab-44d7-a9df-e5a69463f715"
    },
    {
      "cell_type": "code",
      "execution_count": null,
      "metadata": {
        "id": "e98baa36-56e0-4fdc-b371-ebe02e600e0f"
      },
      "outputs": [],
      "source": [
        "# Elementwise division; both produce the array\n",
        "# [[ 0.2         0.33333333]\n",
        "#  [ 0.42857143  0.5       ]]\n",
        "print(x / y)\n",
        "print(np.divide(x, y))"
      ],
      "id": "e98baa36-56e0-4fdc-b371-ebe02e600e0f"
    },
    {
      "cell_type": "code",
      "execution_count": null,
      "metadata": {
        "id": "226ebb2f-a24c-4f22-ae1c-d4c5302882a8"
      },
      "outputs": [],
      "source": [
        "# Elementwise square root; produces the array\n",
        "# [[ 1.          1.41421356]\n",
        "#  [ 1.73205081  2.        ]]\n",
        "print(np.sqrt(x))"
      ],
      "id": "226ebb2f-a24c-4f22-ae1c-d4c5302882a8"
    },
    {
      "cell_type": "markdown",
      "metadata": {
        "id": "d2125bff-5063-482e-97ac-f997665fe8a9"
      },
      "source": [
        "Note that unlike MATLAB, `*` is elementwise multiplication, not matrix multiplication. We instead use the `dot()` function to compute inner products of vectors, to multiply a vector by a matrix, and to multiply matrices. `dot()` is available both as a function in the numpy module and as an instance method of array objects:\n",
        "\n",
        "![](http://jalammar.github.io/images/numpy/numpy-matrix-dot-product-1.png)"
      ],
      "id": "d2125bff-5063-482e-97ac-f997665fe8a9"
    },
    {
      "cell_type": "code",
      "execution_count": null,
      "metadata": {
        "id": "6e8eaf91-4f6a-4c82-b2a9-b4ab9c840554"
      },
      "outputs": [],
      "source": [
        "x = np.array([[1,2],[3,4]])\n",
        "y = np.array([[5,6],[7,8]])\n",
        "\n",
        "v = np.array([9,10])\n",
        "w = np.array([11, 12])\n",
        "\n",
        "# Inner product of vectors; both produce 219\n",
        "print(v.dot(w))\n",
        "print(np.dot(v, w))"
      ],
      "id": "6e8eaf91-4f6a-4c82-b2a9-b4ab9c840554"
    },
    {
      "cell_type": "markdown",
      "metadata": {
        "id": "15dfbf0b-74c0-4684-81a9-851d4ebabe6a"
      },
      "source": [
        "You can also use the `@` operator which is equivalent to numpy's `dot` operator."
      ],
      "id": "15dfbf0b-74c0-4684-81a9-851d4ebabe6a"
    },
    {
      "cell_type": "code",
      "execution_count": null,
      "metadata": {
        "id": "d0168e19-0fbe-43fc-a561-43db3eab3e6a"
      },
      "outputs": [],
      "source": [
        "print(v @ w)"
      ],
      "id": "d0168e19-0fbe-43fc-a561-43db3eab3e6a"
    },
    {
      "cell_type": "code",
      "execution_count": null,
      "metadata": {
        "id": "ed5a07e9-5e8c-4e92-9db6-9e0e7daf8e27"
      },
      "outputs": [],
      "source": [
        "# Matrix / vector product; both produce the rank 1 array [29 67]\n",
        "print(x.dot(v))\n",
        "print(np.dot(x, v))\n",
        "print(x @ v)"
      ],
      "id": "ed5a07e9-5e8c-4e92-9db6-9e0e7daf8e27"
    },
    {
      "cell_type": "code",
      "execution_count": null,
      "metadata": {
        "id": "e42300f0-be37-4c96-9d21-7c67cf06d370"
      },
      "outputs": [],
      "source": [
        "# Matrix / matrix product; both produce the rank 2 array\n",
        "# [[19 22]\n",
        "#  [43 50]]\n",
        "print(x.dot(y))\n",
        "print(np.dot(x, y))\n",
        "print(x @ y)"
      ],
      "id": "e42300f0-be37-4c96-9d21-7c67cf06d370"
    },
    {
      "cell_type": "markdown",
      "metadata": {
        "id": "df7ccfe0-587f-46e6-83c4-6a6cc38ff1ea"
      },
      "source": [
        "Besides for the functions that overload operators, Numpy also provides many useful functions for performing computations on arrays, such as `min()`, `max()`, `sum()`, and others:\n",
        "\n",
        "![](http://jalammar.github.io/images/numpy/numpy-matrix-aggregation-1.png)"
      ],
      "id": "df7ccfe0-587f-46e6-83c4-6a6cc38ff1ea"
    },
    {
      "cell_type": "code",
      "execution_count": null,
      "metadata": {
        "id": "66adf5e5-773e-48fd-aff1-b42cec7a0491"
      },
      "outputs": [],
      "source": [
        "x = np.array([[1, 2], [3, 4], [5, 6]])\n",
        "\n",
        "print(np.max(x))  # Compute max of all elements; prints \"6\"\n",
        "print(np.min(x))  # Compute min of all elements; prints \"1\"\n",
        "print(np.sum(x))  # Compute sum of all elements; prints \"21\""
      ],
      "id": "66adf5e5-773e-48fd-aff1-b42cec7a0491"
    },
    {
      "cell_type": "markdown",
      "metadata": {
        "id": "96121e02-4803-40ec-a8be-5c054519754d"
      },
      "source": [
        "Not only can we aggregate all the values in a matrix using these functions, but we can also aggregate across the rows or columns by using the `axis` parameter:\n",
        "\n",
        "![](http://jalammar.github.io/images/numpy/numpy-matrix-aggregation-4.png)"
      ],
      "id": "96121e02-4803-40ec-a8be-5c054519754d"
    },
    {
      "cell_type": "code",
      "execution_count": null,
      "metadata": {
        "id": "c5b0a1f4-4a9e-4d6f-aec0-21473253cda3"
      },
      "outputs": [],
      "source": [
        "x = np.array([[1, 2], [5, 3], [4, 6]])\n",
        "\n",
        "print(np.max(x, axis=0))  # Compute max of each column; prints \"[5 6]\"\n",
        "print(np.max(x, axis=1))  # Compute max of each row; prints \"[2 5 6]\""
      ],
      "id": "c5b0a1f4-4a9e-4d6f-aec0-21473253cda3"
    },
    {
      "cell_type": "markdown",
      "metadata": {
        "id": "e9b3473b-9d78-49b4-b405-9dcf386b93e0"
      },
      "source": [
        "You can find the full list of mathematical functions provided by numpy in the [documentation](http://docs.scipy.org/doc/numpy/reference/routines.math.html)."
      ],
      "id": "e9b3473b-9d78-49b4-b405-9dcf386b93e0"
    },
    {
      "cell_type": "markdown",
      "metadata": {
        "id": "d39ad048-edd3-4c0c-9620-13a8ba6cbf01"
      },
      "source": [
        "Apart from computing mathematical functions using arrays, we frequently need to reshape or otherwise manipulate data in arrays. The simplest example of this type of operation is transposing a matrix; to transpose a matrix, simply use the T attribute of an array object.\n",
        "\n",
        "![](http://jalammar.github.io/images/numpy/numpy-transpose.png)"
      ],
      "id": "d39ad048-edd3-4c0c-9620-13a8ba6cbf01"
    },
    {
      "cell_type": "code",
      "execution_count": null,
      "metadata": {
        "id": "d50bc55d-177e-4d6a-aea9-291c48620eba"
      },
      "outputs": [],
      "source": [
        "x = np.array([[1, 2], [3, 4], [5, 6]])\n",
        "\n",
        "print(x)\n",
        "print(\"transpose\\n\", x.T)"
      ],
      "id": "d50bc55d-177e-4d6a-aea9-291c48620eba"
    },
    {
      "cell_type": "code",
      "execution_count": null,
      "metadata": {
        "id": "ddb52688-8f4d-4eb4-8249-c63a56b639a2"
      },
      "outputs": [],
      "source": [
        "v = np.array([[1,2,3]])\n",
        "print(v )\n",
        "print(\"transpose\\n\", v.T)"
      ],
      "id": "ddb52688-8f4d-4eb4-8249-c63a56b639a2"
    },
    {
      "cell_type": "markdown",
      "metadata": {
        "id": "aed0f9ad-f114-42a5-aae1-09672bdffc97"
      },
      "source": [
        "In more advanced use case, you may find yourself needing to change the dimensions of a certain matrix. This is often the case in machine learning applications where a certain model expects a certain shape for the inputs that is different from your dataset. numpy's `reshape()` method is useful in these cases.\n",
        "\n",
        "![](http://jalammar.github.io/images/numpy/numpy-reshape.png)"
      ],
      "id": "aed0f9ad-f114-42a5-aae1-09672bdffc97"
    },
    {
      "cell_type": "markdown",
      "metadata": {
        "id": "59c09a49-bad1-4c70-a137-7c9a3c26d625"
      },
      "source": [
        "A common task in this class will be to convert a 1D array to a 2D array, and vice versa. We can use `reshape()` for this."
      ],
      "id": "59c09a49-bad1-4c70-a137-7c9a3c26d625"
    },
    {
      "cell_type": "markdown",
      "metadata": {
        "id": "3ecf3a91-68c3-4186-a7ec-583d08e685db"
      },
      "source": [
        "For example, suppose we had this 2D array, but we need to pass it to a function that expects a 1D array."
      ],
      "id": "3ecf3a91-68c3-4186-a7ec-583d08e685db"
    },
    {
      "cell_type": "code",
      "execution_count": 67,
      "metadata": {
        "id": "b1884a4d-c183-4c1a-b4aa-0e9e9925f284",
        "outputId": "b371da97-a057-4ffc-b19f-e69931f0f018",
        "colab": {
          "base_uri": "https://localhost:8080/"
        }
      },
      "outputs": [
        {
          "output_type": "stream",
          "name": "stdout",
          "text": [
            "[[1]\n",
            " [2]\n",
            " [3]]\n"
          ]
        },
        {
          "output_type": "execute_result",
          "data": {
            "text/plain": [
              "(3, 1)"
            ]
          },
          "metadata": {},
          "execution_count": 67
        }
      ],
      "source": [
        "w = np.array([[1],[2],[3]])\n",
        "print(w)\n",
        "w.shape"
      ],
      "id": "b1884a4d-c183-4c1a-b4aa-0e9e9925f284"
    },
    {
      "cell_type": "markdown",
      "metadata": {
        "id": "7bd067b9-1f56-4714-8baa-75f81a8b4d2c"
      },
      "source": [
        "We can remove the “unnecessary” extra dimension with"
      ],
      "id": "7bd067b9-1f56-4714-8baa-75f81a8b4d2c"
    },
    {
      "cell_type": "code",
      "execution_count": 68,
      "metadata": {
        "id": "31ac2e61-d3de-4b10-ab04-df7d879754b1",
        "outputId": "570c5ddf-de90-4edb-81f3-3e1a5999e88b",
        "colab": {
          "base_uri": "https://localhost:8080/"
        }
      },
      "outputs": [
        {
          "output_type": "stream",
          "name": "stdout",
          "text": [
            "[1 2 3]\n"
          ]
        },
        {
          "output_type": "execute_result",
          "data": {
            "text/plain": [
              "(3,)"
            ]
          },
          "metadata": {},
          "execution_count": 68
        }
      ],
      "source": [
        "y = w.reshape(-1,)\n",
        "print(y)\n",
        "y.shape"
      ],
      "id": "31ac2e61-d3de-4b10-ab04-df7d879754b1"
    },
    {
      "cell_type": "markdown",
      "metadata": {
        "id": "3224804b-5a14-4607-a536-4b3d584ee815"
      },
      "source": [
        "Note that we can pass -1 as one dimension and numpy will infer the correct size based on our matrix size!\n",
        "\n",
        "There’s also a `squeeze()` function that removes *all* of the “unnecessary” dimensions (dimensions that have size 1) from an array:"
      ],
      "id": "3224804b-5a14-4607-a536-4b3d584ee815"
    },
    {
      "cell_type": "code",
      "execution_count": 69,
      "metadata": {
        "id": "9c4a3539-3c94-4ac1-bae5-ccf4837dcccb",
        "outputId": "a4057dc6-ea4c-433a-9d5a-17423ae13363",
        "colab": {
          "base_uri": "https://localhost:8080/"
        }
      },
      "outputs": [
        {
          "output_type": "stream",
          "name": "stdout",
          "text": [
            "[1 2 3]\n"
          ]
        },
        {
          "output_type": "execute_result",
          "data": {
            "text/plain": [
              "(3,)"
            ]
          },
          "metadata": {},
          "execution_count": 69
        }
      ],
      "source": [
        "z = w.squeeze()\n",
        "print(z)\n",
        "z.shape"
      ],
      "id": "9c4a3539-3c94-4ac1-bae5-ccf4837dcccb"
    },
    {
      "cell_type": "markdown",
      "metadata": {
        "id": "38a91793-4a23-44c9-babf-2a304434fefb"
      },
      "source": [
        "To go from a 1D to 2D array, we can just add in another dimension of size 1:"
      ],
      "id": "38a91793-4a23-44c9-babf-2a304434fefb"
    },
    {
      "cell_type": "code",
      "execution_count": 70,
      "metadata": {
        "id": "616aac7c-8dda-4239-bef8-95d6992ec41f",
        "outputId": "13179b25-6e26-4648-859d-865369a4a0e5",
        "colab": {
          "base_uri": "https://localhost:8080/"
        }
      },
      "outputs": [
        {
          "output_type": "execute_result",
          "data": {
            "text/plain": [
              "array([[1],\n",
              "       [2],\n",
              "       [3]])"
            ]
          },
          "metadata": {},
          "execution_count": 70
        }
      ],
      "source": [
        "y.reshape((-1,1))"
      ],
      "id": "616aac7c-8dda-4239-bef8-95d6992ec41f"
    },
    {
      "cell_type": "markdown",
      "metadata": {
        "id": "2f732295-05f9-4b61-9f24-8efd6b41de8d"
      },
      "source": [
        "### Broadcasting"
      ],
      "id": "2f732295-05f9-4b61-9f24-8efd6b41de8d"
    },
    {
      "cell_type": "markdown",
      "metadata": {
        "id": "2a85d55c-e7e9-4552-b3af-4476d5ccbe86"
      },
      "source": [
        "Broadcasting is a powerful mechanism that allows numpy to work with arrays of different shapes when performing arithmetic operations."
      ],
      "id": "2a85d55c-e7e9-4552-b3af-4476d5ccbe86"
    },
    {
      "cell_type": "markdown",
      "metadata": {
        "id": "7c21ce51-aeab-4da1-8d7f-60507ae6c22d"
      },
      "source": [
        "For example: basic linear algebra, we can only add (and perform similar element-wise operations) two matrics that have the *same* dimension. In numpy, if we want to add two matrics that have different dimensions, numpy will implicitly “extend” the dimension of one matrix to match the other so that we can perform the operation.\n",
        "\n",
        "So these operations will work, instead of returning an error:\n",
        "\n",
        "![](https://sebastianraschka.com/images/blog/2020/numpy-intro/broadcasting-1.png)\n",
        "\n",
        "![](https://sebastianraschka.com/images/blog/2020/numpy-intro/broadcasting-2.png)"
      ],
      "id": "7c21ce51-aeab-4da1-8d7f-60507ae6c22d"
    },
    {
      "cell_type": "markdown",
      "metadata": {
        "id": "aa6e5252-c604-45b4-870a-4e7c6020ae99"
      },
      "source": [
        "Broadcasting two arrays together follows these rules:\n",
        "\n",
        "**Rule 1**: If the two arrays differ in their number of dimensions, the shape of the one with fewer dimensions is padded with ones on its leading (left) side.\n",
        "\n",
        "For example, in the following cell, `a` will be implicitly extended to shape (1,3):"
      ],
      "id": "aa6e5252-c604-45b4-870a-4e7c6020ae99"
    },
    {
      "cell_type": "code",
      "execution_count": null,
      "metadata": {
        "id": "3e32bef1-4753-4893-89ca-4edc7288c766"
      },
      "outputs": [],
      "source": [
        "a = np.array([1,2,3])         # has shape (3,): one dimension\n",
        "b = np.array([[4], [5], [6]]) # has shape (3,1): two dimensions\n",
        "c = a + b                     # will have shape (3,3) (two dimensions)"
      ],
      "id": "3e32bef1-4753-4893-89ca-4edc7288c766"
    },
    {
      "cell_type": "markdown",
      "metadata": {
        "id": "d148066a-992b-4b46-9944-0cce3ac61189"
      },
      "source": [
        "**Rule 2**: If the shape of the two arrays does not match in any dimension, the array with shape equal to 1 in that dimension is stretched to match the other shape.\n",
        "\n",
        "For example, in the following cell `a` will be implicitly extended to shape (3,2):"
      ],
      "id": "d148066a-992b-4b46-9944-0cce3ac61189"
    },
    {
      "cell_type": "code",
      "execution_count": null,
      "metadata": {
        "id": "3ce72464-c36b-45e5-8de5-f24eb11c63fb"
      },
      "outputs": [],
      "source": [
        "a = np.array([[1],[2],[3]])         # has shape (3,1)\n",
        "b = np.array([[4,5], [6,7], [8,9]]) # has shape (3,2)\n",
        "c = a + b                           # will have shape (3,2)"
      ],
      "id": "3ce72464-c36b-45e5-8de5-f24eb11c63fb"
    },
    {
      "cell_type": "markdown",
      "metadata": {
        "id": "3cc70138-0b7f-4a3c-a561-416491b24704"
      },
      "source": [
        "**Rule 3**: If in any dimension the sizes disagree and neither is equal to 1, an error is raised:"
      ],
      "id": "3cc70138-0b7f-4a3c-a561-416491b24704"
    },
    {
      "cell_type": "code",
      "execution_count": null,
      "metadata": {
        "id": "c73f809a-5255-4958-b8af-f5c078838df5"
      },
      "outputs": [],
      "source": [
        "a = np.array([[1],[2],[3],[4]])      # has shape (4,1)\n",
        "b = np.array([[4,5], [6,7], [8,9]])  # has shape (3,2)\n",
        "c = a + b                            # ValueError: operands could not be broadcast"
      ],
      "id": "c73f809a-5255-4958-b8af-f5c078838df5"
    },
    {
      "cell_type": "markdown",
      "metadata": {
        "id": "9fcb707a-3ec0-4d0c-a1d3-7410a58262e2"
      },
      "source": [
        "For more detail, you can read the explanation from the [documentation](http://docs.scipy.org/doc/numpy/user/basics.broadcasting.html)."
      ],
      "id": "9fcb707a-3ec0-4d0c-a1d3-7410a58262e2"
    },
    {
      "cell_type": "markdown",
      "metadata": {
        "id": "bf330eac-6a83-4878-bfaa-f11f300928ac"
      },
      "source": [
        "Functions that support broadcasting are known as universal functions. You can find the list of all universal functions in the [documentation](http://docs.scipy.org/doc/numpy/reference/ufuncs.html#available-ufuncs)."
      ],
      "id": "bf330eac-6a83-4878-bfaa-f11f300928ac"
    },
    {
      "cell_type": "markdown",
      "metadata": {
        "id": "497f6be0-fc5e-4d99-aec4-2435498c61ea"
      },
      "source": [
        "Here are a few visual examples involving broadcasting.\n",
        "\n",
        "![](http://jalammar.github.io/images/numpy/numpy-array-broadcast.png)\n",
        "\n",
        "Note that these arrays are compatible in each dimension if they have either the same size in that dimension, or if one array has size 1 in that dimension.\n",
        "\n",
        "![](http://jalammar.github.io/images/numpy/numpy-matrix-broadcast.png)"
      ],
      "id": "497f6be0-fc5e-4d99-aec4-2435498c61ea"
    },
    {
      "cell_type": "markdown",
      "metadata": {
        "id": "cbc5165b-fc47-4e14-8b58-3012adbad24e"
      },
      "source": [
        "And here are some more practical applications:"
      ],
      "id": "cbc5165b-fc47-4e14-8b58-3012adbad24e"
    },
    {
      "cell_type": "code",
      "execution_count": null,
      "metadata": {
        "id": "e5636e31-b864-461e-b1bc-875549a857fa"
      },
      "outputs": [],
      "source": [
        "# Compute outer product of vectors\n",
        "v = np.array([1,2,3])  # v has shape (3,)\n",
        "w = np.array([4,5])    # w has shape (2,)\n",
        "# To compute an outer product, we first reshape v to be a column\n",
        "# vector of shape (3, 1); we can then broadcast it against w to yield\n",
        "# an output of shape (3, 2), which is the outer product of v and w:\n",
        "\n",
        "print(np.reshape(v, (3, 1)) * w)"
      ],
      "id": "e5636e31-b864-461e-b1bc-875549a857fa"
    },
    {
      "cell_type": "code",
      "execution_count": null,
      "metadata": {
        "id": "5fe4f55d-ad71-4f12-93d9-52e82790b8f0"
      },
      "outputs": [],
      "source": [
        "# Add a vector to each row of a matrix\n",
        "x = np.array([[1,2,3], [4,5,6]])\n",
        "# x has shape (2, 3) and v has shape (3,) so they broadcast to (2, 3),\n",
        "# giving the following matrix:\n",
        "\n",
        "print(x + v)"
      ],
      "id": "5fe4f55d-ad71-4f12-93d9-52e82790b8f0"
    },
    {
      "cell_type": "code",
      "execution_count": null,
      "metadata": {
        "id": "5b703d95-f109-4828-968f-6b3f42dd281e"
      },
      "outputs": [],
      "source": [
        "# Add a vector to each column of a matrix\n",
        "# x has shape (2, 3) and w has shape (2,).\n",
        "# If we transpose x then it has shape (3, 2) and can be broadcast\n",
        "# against w to yield a result of shape (3, 2); transposing this result\n",
        "# yields the final result of shape (2, 3) which is the matrix x with\n",
        "# the vector w added to each column. Gives the following matrix:\n",
        "\n",
        "print((x.T + w).T)"
      ],
      "id": "5b703d95-f109-4828-968f-6b3f42dd281e"
    },
    {
      "cell_type": "code",
      "execution_count": null,
      "metadata": {
        "id": "7f9e6053-4439-47cd-9890-e1607fa398fe"
      },
      "outputs": [],
      "source": [
        "# Another solution is to reshape w to be a row vector of shape (2, 1);\n",
        "# we can then broadcast it directly against x to produce the same\n",
        "# output.\n",
        "print(x + np.reshape(w, (2, 1)))"
      ],
      "id": "7f9e6053-4439-47cd-9890-e1607fa398fe"
    },
    {
      "cell_type": "code",
      "execution_count": null,
      "metadata": {
        "id": "2d4ac7f1-4aa5-445a-8cad-3cafc8946055"
      },
      "outputs": [],
      "source": [
        "# Multiply a matrix by a constant:\n",
        "# x has shape (2, 3). Numpy treats scalars as arrays of shape ();\n",
        "# these can be broadcast together to shape (2, 3), producing the\n",
        "# following array:\n",
        "print(x * 2)"
      ],
      "id": "2d4ac7f1-4aa5-445a-8cad-3cafc8946055"
    },
    {
      "cell_type": "markdown",
      "metadata": {
        "id": "a2b8e88d-856f-4bd2-b266-cc579edc202f"
      },
      "source": [
        "Broadcasting typically makes your code more concise and faster, so you should strive to use it where possible."
      ],
      "id": "a2b8e88d-856f-4bd2-b266-cc579edc202f"
    },
    {
      "cell_type": "markdown",
      "metadata": {
        "id": "ea213900-99db-4c10-9047-17abbb7b8772"
      },
      "source": [
        "This brief overview has touched on many of the important things that you need to know about numpy, but is far from complete. Check out the [numpy reference](http://docs.scipy.org/doc/numpy/reference/) to find out much more about numpy."
      ],
      "id": "ea213900-99db-4c10-9047-17abbb7b8772"
    },
    {
      "cell_type": "markdown",
      "metadata": {
        "id": "8c743bf9-95e7-4b21-8ef6-1d916db84104"
      },
      "source": [
        "## Matplotlib"
      ],
      "id": "8c743bf9-95e7-4b21-8ef6-1d916db84104"
    },
    {
      "cell_type": "markdown",
      "metadata": {
        "id": "8630b702-f57d-422f-8c40-7912f1465851"
      },
      "source": [
        "Matplotlib is a plotting library. In this section we give a brief introduction to the `matplotlib.pyplot` module, which provides a plotting system similar to that of MATLAB.\n",
        "\n",
        "By convention, we typically import this module using the `plt` alias:"
      ],
      "id": "8630b702-f57d-422f-8c40-7912f1465851"
    },
    {
      "cell_type": "code",
      "execution_count": 72,
      "metadata": {
        "id": "e49c3713-edd0-4c57-b3dd-a50357bfa2c4"
      },
      "outputs": [],
      "source": [
        "import matplotlib.pyplot as plt"
      ],
      "id": "e49c3713-edd0-4c57-b3dd-a50357bfa2c4"
    },
    {
      "cell_type": "markdown",
      "metadata": {
        "id": "fdd662e3-04b1-4e56-8a9a-e15cec40b917"
      },
      "source": [
        "### Plotting"
      ],
      "id": "fdd662e3-04b1-4e56-8a9a-e15cec40b917"
    },
    {
      "cell_type": "markdown",
      "metadata": {
        "id": "4f966115-d35f-4981-9cf3-61985f2c7f02"
      },
      "source": [
        "The most important function in `matplotlib` is `plot`, which allows you to plot 2D data as a line plot. Here is a simple example:"
      ],
      "id": "4f966115-d35f-4981-9cf3-61985f2c7f02"
    },
    {
      "cell_type": "code",
      "execution_count": 73,
      "metadata": {
        "id": "7a6e0ff6-ae4b-4a50-a472-b1b5c0b3da23",
        "outputId": "af94473d-dbb9-4802-a731-864f50437dc3",
        "colab": {
          "base_uri": "https://localhost:8080/",
          "height": 430
        }
      },
      "outputs": [
        {
          "output_type": "display_data",
          "data": {
            "text/plain": [
              "<Figure size 640x480 with 1 Axes>"
            ],
            "image/png": "[encoded data removed]"
          },
          "metadata": {}
        }
      ],
      "source": [
        "# Compute the x and y coordinates for points on a sine curve\n",
        "x = np.arange(0, 3 * np.pi, 0.1)\n",
        "y = np.sin(x)\n",
        "\n",
        "# Plot the points using matplotlib\n",
        "plt.plot(x, y)\n",
        "\n",
        "# Show the figure.\n",
        "plt.show()"
      ],
      "id": "7a6e0ff6-ae4b-4a50-a472-b1b5c0b3da23"
    },
    {
      "cell_type": "markdown",
      "metadata": {
        "id": "18e74092-d88b-4330-9272-deda49e09c56"
      },
      "source": [
        "With just a little bit of extra work we can easily plot multiple lines at once, and add a title, legend, and axis labels:"
      ],
      "id": "18e74092-d88b-4330-9272-deda49e09c56"
    },
    {
      "cell_type": "code",
      "execution_count": null,
      "metadata": {
        "id": "3d63edc1-23b2-40cd-91c5-2c603be9801e"
      },
      "outputs": [],
      "source": [
        "y_sin = np.sin(x)\n",
        "y_cos = np.cos(x)\n",
        "\n",
        "# Plot the points using matplotlib\n",
        "plt.plot(x, y_sin, label='Sine')\n",
        "plt.plot(x, y_cos, label='Cosine')\n",
        "plt.legend() # uses the label arguments given above\n",
        "\n",
        "plt.xlabel('x axis label')\n",
        "plt.ylabel('y axis label')\n",
        "plt.title('Sine and Cosine')\n",
        "\n",
        "# Show the figure.\n",
        "plt.show()"
      ],
      "id": "3d63edc1-23b2-40cd-91c5-2c603be9801e"
    },
    {
      "cell_type": "markdown",
      "metadata": {
        "id": "d1aded07-7334-400d-bd72-22a2a60a65d8"
      },
      "source": [
        "Another useful, basic, plot is the `scatter` plot:"
      ],
      "id": "d1aded07-7334-400d-bd72-22a2a60a65d8"
    },
    {
      "cell_type": "code",
      "execution_count": null,
      "metadata": {
        "id": "04fc2f05-e3b6-4146-afca-7b039af7d605"
      },
      "outputs": [],
      "source": [
        "x = np.random.rand(50)\n",
        "y = np.random.rand(50)\n",
        "colors = np.random.randint(0, 2, 50)\n",
        "\n",
        "plt.scatter(x, y, c=colors)\n",
        "\n",
        "plt.show()"
      ],
      "id": "04fc2f05-e3b6-4146-afca-7b039af7d605"
    },
    {
      "cell_type": "markdown",
      "metadata": {
        "id": "8ebcd0b4-ba3b-4287-8ce6-b7c57492415b"
      },
      "source": [
        "When there is no logical connection between adjacent points (for example: if the horizontal axis is a categorical variable without a logical order), then you should *not* connect them (as in a line plot), since this implies a relationship that does not exist! Instead, you would use a scatter plot."
      ],
      "id": "8ebcd0b4-ba3b-4287-8ce6-b7c57492415b"
    },
    {
      "cell_type": "markdown",
      "metadata": {
        "id": "ecde9d53-8ad0-4b55-abce-a23e15e1e1f9"
      },
      "source": [
        "### Subplots"
      ],
      "id": "ecde9d53-8ad0-4b55-abce-a23e15e1e1f9"
    },
    {
      "cell_type": "markdown",
      "metadata": {
        "id": "baf993cc-1f30-464e-a4ed-d93d57dadfa0"
      },
      "source": [
        "You can plot different things in the same figure using the `subplot` function. Here is an example:"
      ],
      "id": "baf993cc-1f30-464e-a4ed-d93d57dadfa0"
    },
    {
      "cell_type": "code",
      "execution_count": null,
      "metadata": {
        "id": "e83de13a-ad4f-41a0-b708-cc34787a711b"
      },
      "outputs": [],
      "source": [
        "# Compute the x and y coordinates for points on sine and cosine curves\n",
        "x = np.arange(0, 3 * np.pi, 0.1)\n",
        "y_sin = np.sin(x)\n",
        "y_cos = np.cos(x)\n",
        "\n",
        "# Set up a subplot grid that has height 2 and width 1,\n",
        "# and set the first such subplot as active.\n",
        "plt.subplot(2, 1, 1)\n",
        "\n",
        "# Make the first plot\n",
        "plt.plot(x, y_sin)\n",
        "plt.title('Sine')\n",
        "\n",
        "# Set the second subplot as active, and make the second plot.\n",
        "plt.subplot(2, 1, 2)\n",
        "plt.plot(x, y_cos)\n",
        "plt.title('Cosine')\n",
        "\n",
        "# Adjust spacing between subplots\n",
        "plt.subplots_adjust(hspace = 0.4)\n",
        "\n",
        "# Show the figure.\n",
        "plt.show()"
      ],
      "id": "e83de13a-ad4f-41a0-b708-cc34787a711b"
    },
    {
      "cell_type": "markdown",
      "metadata": {
        "id": "791ff577-24b4-4e64-8075-c8492e3592dd"
      },
      "source": [
        "You can read much more about the `subplot` function in the [documentation](http://matplotlib.org/api/pyplot_api.html#matplotlib.pyplot.subplot)."
      ],
      "id": "791ff577-24b4-4e64-8075-c8492e3592dd"
    },
    {
      "cell_type": "markdown",
      "metadata": {
        "id": "cbfae954-52ab-4efe-86f4-3553e0f799c9"
      },
      "source": [
        "You can use the `imshow` function to display images from a file. Here is an example:"
      ],
      "id": "cbfae954-52ab-4efe-86f4-3553e0f799c9"
    },
    {
      "cell_type": "code",
      "execution_count": null,
      "metadata": {
        "id": "9f536a15-9dd3-4283-95ff-6a05309175d5"
      },
      "outputs": [],
      "source": [
        "from matplotlib.cbook import get_sample_data\n",
        "\n",
        "img_file = get_sample_data('grace_hopper.jpg')\n",
        "\n",
        "img = plt.imread(img_file)\n",
        "plt.imshow(img)\n",
        "plt.show()"
      ],
      "id": "9f536a15-9dd3-4283-95ff-6a05309175d5"
    },
    {
      "cell_type": "markdown",
      "metadata": {
        "id": "825162e7-0cb0-4ff1-b687-340b9332f8ef"
      },
      "source": [
        "The `matplotlib` library is very flexible, and you can create virtually any plot and modify its appearance in any way you might think of. If you don’t like the way your plot looks, fix it! Use the [documentation](http://matplotlib.org/api/pyplot_api.html) to learn more."
      ],
      "id": "825162e7-0cb0-4ff1-b687-340b9332f8ef"
    },
    {
      "cell_type": "code",
      "source": [
        "from sklearn.linear_model import LinearRegression\n"
      ],
      "metadata": {
        "id": "VIKoaadwT0tG"
      },
      "id": "VIKoaadwT0tG",
      "execution_count": 74,
      "outputs": []
    },
    {
      "cell_type": "code",
      "source": [
        "X = np.array([1,2,3,4,5])\n",
        "Y = np.array([2,3,5,6,8])"
      ],
      "metadata": {
        "id": "YlZdsX6JT0fA"
      },
      "id": "YlZdsX6JT0fA",
      "execution_count": 78,
      "outputs": []
    },
    {
      "cell_type": "code",
      "source": [
        "print(X.shape)\n",
        "print(Y.shape)"
      ],
      "metadata": {
        "id": "U2Xx6yioUZR6",
        "outputId": "9aa51cca-3eb3-48e5-c31a-1106218a3cfa",
        "colab": {
          "base_uri": "https://localhost:8080/"
        }
      },
      "id": "U2Xx6yioUZR6",
      "execution_count": 80,
      "outputs": [
        {
          "output_type": "stream",
          "name": "stdout",
          "text": [
            "(5,)\n",
            "(5,)\n"
          ]
        }
      ]
    },
    {
      "cell_type": "code",
      "source": [
        "X_reshaped = X.reshape(-1,1)"
      ],
      "metadata": {
        "id": "JK6VE_UqUTK0"
      },
      "id": "JK6VE_UqUTK0",
      "execution_count": 81,
      "outputs": []
    },
    {
      "cell_type": "code",
      "source": [
        "print(X_reshaped.shape)"
      ],
      "metadata": {
        "id": "dPpqg9j9UldN",
        "outputId": "c98eb6f3-684e-4400-fa6f-6ac038a1889d",
        "colab": {
          "base_uri": "https://localhost:8080/"
        }
      },
      "id": "dPpqg9j9UldN",
      "execution_count": 83,
      "outputs": [
        {
          "output_type": "stream",
          "name": "stdout",
          "text": [
            "(5, 1)\n"
          ]
        }
      ]
    },
    {
      "cell_type": "code",
      "source": [
        "model = LinearRegression()\n",
        "model.fit(X_reshaped, Y)"
      ],
      "metadata": {
        "id": "FkDmY9xfUoWC",
        "outputId": "ff75bf49-1fe6-4bd2-df4a-55efdf54fa64",
        "colab": {
          "base_uri": "https://localhost:8080/",
          "height": 57
        }
      },
      "id": "FkDmY9xfUoWC",
      "execution_count": 84,
      "outputs": [
        {
          "output_type": "execute_result",
          "data": {
            "text/plain": [
              "LinearRegression()"
            ],
            "text/html": [
              "<style>#sk-container-id-1 {\n",
              "  /* Definition of color scheme common for light and dark mode */\n",
              "  --sklearn-color-text: #000;\n",
              "  --sklearn-color-text-muted: #666;\n",
              "  --sklearn-color-line: gray;\n",
              "  /* Definition of color scheme for unfitted estimators */\n",
              "  --sklearn-color-unfitted-level-0: #fff5e6;\n",
              "  --sklearn-color-unfitted-level-1: #f6e4d2;\n",
              "  --sklearn-color-unfitted-level-2: #ffe0b3;\n",
              "  --sklearn-color-unfitted-level-3: chocolate;\n",
              "  /* Definition of color scheme for fitted estimators */\n",
              "  --sklearn-color-fitted-level-0: #f0f8ff;\n",
              "  --sklearn-color-fitted-level-1: #d4ebff;\n",
              "  --sklearn-color-fitted-level-2: #b3dbfd;\n",
              "  --sklearn-color-fitted-level-3: cornflowerblue;\n",
              "\n",
              "  /* Specific color for light theme */\n",
              "  --sklearn-color-text-on-default-background: var(--sg-text-color, var(--theme-code-foreground, var(--jp-content-font-color1, black)));\n",
              "  --sklearn-color-background: var(--sg-background-color, var(--theme-background, var(--jp-layout-color0, white)));\n",
              "  --sklearn-color-border-box: var(--sg-text-color, var(--theme-code-foreground, var(--jp-content-font-color1, black)));\n",
              "  --sklearn-color-icon: #696969;\n",
              "\n",
              "  @media (prefers-color-scheme: dark) {\n",
              "    /* Redefinition of color scheme for dark theme */\n",
              "    --sklearn-color-text-on-default-background: var(--sg-text-color, var(--theme-code-foreground, var(--jp-content-font-color1, white)));\n",
              "    --sklearn-color-background: var(--sg-background-color, var(--theme-background, var(--jp-layout-color0, #111)));\n",
              "    --sklearn-color-border-box: var(--sg-text-color, var(--theme-code-foreground, var(--jp-content-font-color1, white)));\n",
              "    --sklearn-color-icon: #878787;\n",
              "  }\n",
              "}\n",
              "\n",
              "#sk-container-id-1 {\n",
              "  color: var(--sklearn-color-text);\n",
              "}\n",
              "\n",
              "#sk-container-id-1 pre {\n",
              "  padding: 0;\n",
              "}\n",
              "\n",
              "#sk-container-id-1 input.sk-hidden--visually {\n",
              "  border: 0;\n",
              "  clip: rect(1px 1px 1px 1px);\n",
              "  clip: rect(1px, 1px, 1px, 1px);\n",
              "  height: 1px;\n",
              "  margin: -1px;\n",
              "  overflow: hidden;\n",
              "  padding: 0;\n",
              "  position: absolute;\n",
              "  width: 1px;\n",
              "}\n",
              "\n",
              "#sk-container-id-1 div.sk-dashed-wrapped {\n",
              "  border: 1px dashed var(--sklearn-color-line);\n",
              "  margin: 0 0.4em 0.5em 0.4em;\n",
              "  box-sizing: border-box;\n",
              "  padding-bottom: 0.4em;\n",
              "  background-color: var(--sklearn-color-background);\n",
              "}\n",
              "\n",
              "#sk-container-id-1 div.sk-container {\n",
              "  /* jupyter's `normalize.less` sets `[hidden] { display: none; }`\n",
              "     but bootstrap.min.css set `[hidden] { display: none !important; }`\n",
              "     so we also need the `!important` here to be able to override the\n",
              "     default hidden behavior on the sphinx rendered scikit-learn.org.\n",
              "     See: https://github.com/scikit-learn/scikit-learn/issues/21755 */\n",
              "  display: inline-block !important;\n",
              "  position: relative;\n",
              "}\n",
              "\n",
              "#sk-container-id-1 div.sk-text-repr-fallback {\n",
              "  display: none;\n",
              "}\n",
              "\n",
              "div.sk-parallel-item,\n",
              "div.sk-serial,\n",
              "div.sk-item {\n",
              "  /* draw centered vertical line to link estimators */\n",
              "  background-image: linear-gradient(var(--sklearn-color-text-on-default-background), var(--sklearn-color-text-on-default-background));\n",
              "  background-size: 2px 100%;\n",
              "  background-repeat: no-repeat;\n",
              "  background-position: center center;\n",
              "}\n",
              "\n",
              "/* Parallel-specific style estimator block */\n",
              "\n",
              "#sk-container-id-1 div.sk-parallel-item::after {\n",
              "  content: \"\";\n",
              "  width: 100%;\n",
              "  border-bottom: 2px solid var(--sklearn-color-text-on-default-background);\n",
              "  flex-grow: 1;\n",
              "}\n",
              "\n",
              "#sk-container-id-1 div.sk-parallel {\n",
              "  display: flex;\n",
              "  align-items: stretch;\n",
              "  justify-content: center;\n",
              "  background-color: var(--sklearn-color-background);\n",
              "  position: relative;\n",
              "}\n",
              "\n",
              "#sk-container-id-1 div.sk-parallel-item {\n",
              "  display: flex;\n",
              "  flex-direction: column;\n",
              "}\n",
              "\n",
              "#sk-container-id-1 div.sk-parallel-item:first-child::after {\n",
              "  align-self: flex-end;\n",
              "  width: 50%;\n",
              "}\n",
              "\n",
              "#sk-container-id-1 div.sk-parallel-item:last-child::after {\n",
              "  align-self: flex-start;\n",
              "  width: 50%;\n",
              "}\n",
              "\n",
              "#sk-container-id-1 div.sk-parallel-item:only-child::after {\n",
              "  width: 0;\n",
              "}\n",
              "\n",
              "/* Serial-specific style estimator block */\n",
              "\n",
              "#sk-container-id-1 div.sk-serial {\n",
              "  display: flex;\n",
              "  flex-direction: column;\n",
              "  align-items: center;\n",
              "  background-color: var(--sklearn-color-background);\n",
              "  padding-right: 1em;\n",
              "  padding-left: 1em;\n",
              "}\n",
              "\n",
              "\n",
              "/* Toggleable style: style used for estimator/Pipeline/ColumnTransformer box that is\n",
              "clickable and can be expanded/collapsed.\n",
              "- Pipeline and ColumnTransformer use this feature and define the default style\n",
              "- Estimators will overwrite some part of the style using the `sk-estimator` class\n",
              "*/\n",
              "\n",
              "/* Pipeline and ColumnTransformer style (default) */\n",
              "\n",
              "#sk-container-id-1 div.sk-toggleable {\n",
              "  /* Default theme specific background. It is overwritten whether we have a\n",
              "  specific estimator or a Pipeline/ColumnTransformer */\n",
              "  background-color: var(--sklearn-color-background);\n",
              "}\n",
              "\n",
              "/* Toggleable label */\n",
              "#sk-container-id-1 label.sk-toggleable__label {\n",
              "  cursor: pointer;\n",
              "  display: flex;\n",
              "  width: 100%;\n",
              "  margin-bottom: 0;\n",
              "  padding: 0.5em;\n",
              "  box-sizing: border-box;\n",
              "  text-align: center;\n",
              "  align-items: start;\n",
              "  justify-content: space-between;\n",
              "  gap: 0.5em;\n",
              "}\n",
              "\n",
              "#sk-container-id-1 label.sk-toggleable__label .caption {\n",
              "  font-size: 0.6rem;\n",
              "  font-weight: lighter;\n",
              "  color: var(--sklearn-color-text-muted);\n",
              "}\n",
              "\n",
              "#sk-container-id-1 label.sk-toggleable__label-arrow:before {\n",
              "  /* Arrow on the left of the label */\n",
              "  content: \"▸\";\n",
              "  float: left;\n",
              "  margin-right: 0.25em;\n",
              "  color: var(--sklearn-color-icon);\n",
              "}\n",
              "\n",
              "#sk-container-id-1 label.sk-toggleable__label-arrow:hover:before {\n",
              "  color: var(--sklearn-color-text);\n",
              "}\n",
              "\n",
              "/* Toggleable content - dropdown */\n",
              "\n",
              "#sk-container-id-1 div.sk-toggleable__content {\n",
              "  max-height: 0;\n",
              "  max-width: 0;\n",
              "  overflow: hidden;\n",
              "  text-align: left;\n",
              "  /* unfitted */\n",
              "  background-color: var(--sklearn-color-unfitted-level-0);\n",
              "}\n",
              "\n",
              "#sk-container-id-1 div.sk-toggleable__content.fitted {\n",
              "  /* fitted */\n",
              "  background-color: var(--sklearn-color-fitted-level-0);\n",
              "}\n",
              "\n",
              "#sk-container-id-1 div.sk-toggleable__content pre {\n",
              "  margin: 0.2em;\n",
              "  border-radius: 0.25em;\n",
              "  color: var(--sklearn-color-text);\n",
              "  /* unfitted */\n",
              "  background-color: var(--sklearn-color-unfitted-level-0);\n",
              "}\n",
              "\n",
              "#sk-container-id-1 div.sk-toggleable__content.fitted pre {\n",
              "  /* unfitted */\n",
              "  background-color: var(--sklearn-color-fitted-level-0);\n",
              "}\n",
              "\n",
              "#sk-container-id-1 input.sk-toggleable__control:checked~div.sk-toggleable__content {\n",
              "  /* Expand drop-down */\n",
              "  max-height: 200px;\n",
              "  max-width: 100%;\n",
              "  overflow: auto;\n",
              "}\n",
              "\n",
              "#sk-container-id-1 input.sk-toggleable__control:checked~label.sk-toggleable__label-arrow:before {\n",
              "  content: \"▾\";\n",
              "}\n",
              "\n",
              "/* Pipeline/ColumnTransformer-specific style */\n",
              "\n",
              "#sk-container-id-1 div.sk-label input.sk-toggleable__control:checked~label.sk-toggleable__label {\n",
              "  color: var(--sklearn-color-text);\n",
              "  background-color: var(--sklearn-color-unfitted-level-2);\n",
              "}\n",
              "\n",
              "#sk-container-id-1 div.sk-label.fitted input.sk-toggleable__control:checked~label.sk-toggleable__label {\n",
              "  background-color: var(--sklearn-color-fitted-level-2);\n",
              "}\n",
              "\n",
              "/* Estimator-specific style */\n",
              "\n",
              "/* Colorize estimator box */\n",
              "#sk-container-id-1 div.sk-estimator input.sk-toggleable__control:checked~label.sk-toggleable__label {\n",
              "  /* unfitted */\n",
              "  background-color: var(--sklearn-color-unfitted-level-2);\n",
              "}\n",
              "\n",
              "#sk-container-id-1 div.sk-estimator.fitted input.sk-toggleable__control:checked~label.sk-toggleable__label {\n",
              "  /* fitted */\n",
              "  background-color: var(--sklearn-color-fitted-level-2);\n",
              "}\n",
              "\n",
              "#sk-container-id-1 div.sk-label label.sk-toggleable__label,\n",
              "#sk-container-id-1 div.sk-label label {\n",
              "  /* The background is the default theme color */\n",
              "  color: var(--sklearn-color-text-on-default-background);\n",
              "}\n",
              "\n",
              "/* On hover, darken the color of the background */\n",
              "#sk-container-id-1 div.sk-label:hover label.sk-toggleable__label {\n",
              "  color: var(--sklearn-color-text);\n",
              "  background-color: var(--sklearn-color-unfitted-level-2);\n",
              "}\n",
              "\n",
              "/* Label box, darken color on hover, fitted */\n",
              "#sk-container-id-1 div.sk-label.fitted:hover label.sk-toggleable__label.fitted {\n",
              "  color: var(--sklearn-color-text);\n",
              "  background-color: var(--sklearn-color-fitted-level-2);\n",
              "}\n",
              "\n",
              "/* Estimator label */\n",
              "\n",
              "#sk-container-id-1 div.sk-label label {\n",
              "  font-family: monospace;\n",
              "  font-weight: bold;\n",
              "  display: inline-block;\n",
              "  line-height: 1.2em;\n",
              "}\n",
              "\n",
              "#sk-container-id-1 div.sk-label-container {\n",
              "  text-align: center;\n",
              "}\n",
              "\n",
              "/* Estimator-specific */\n",
              "#sk-container-id-1 div.sk-estimator {\n",
              "  font-family: monospace;\n",
              "  border: 1px dotted var(--sklearn-color-border-box);\n",
              "  border-radius: 0.25em;\n",
              "  box-sizing: border-box;\n",
              "  margin-bottom: 0.5em;\n",
              "  /* unfitted */\n",
              "  background-color: var(--sklearn-color-unfitted-level-0);\n",
              "}\n",
              "\n",
              "#sk-container-id-1 div.sk-estimator.fitted {\n",
              "  /* fitted */\n",
              "  background-color: var(--sklearn-color-fitted-level-0);\n",
              "}\n",
              "\n",
              "/* on hover */\n",
              "#sk-container-id-1 div.sk-estimator:hover {\n",
              "  /* unfitted */\n",
              "  background-color: var(--sklearn-color-unfitted-level-2);\n",
              "}\n",
              "\n",
              "#sk-container-id-1 div.sk-estimator.fitted:hover {\n",
              "  /* fitted */\n",
              "  background-color: var(--sklearn-color-fitted-level-2);\n",
              "}\n",
              "\n",
              "/* Specification for estimator info (e.g. \"i\" and \"?\") */\n",
              "\n",
              "/* Common style for \"i\" and \"?\" */\n",
              "\n",
              ".sk-estimator-doc-link,\n",
              "a:link.sk-estimator-doc-link,\n",
              "a:visited.sk-estimator-doc-link {\n",
              "  float: right;\n",
              "  font-size: smaller;\n",
              "  line-height: 1em;\n",
              "  font-family: monospace;\n",
              "  background-color: var(--sklearn-color-background);\n",
              "  border-radius: 1em;\n",
              "  height: 1em;\n",
              "  width: 1em;\n",
              "  text-decoration: none !important;\n",
              "  margin-left: 0.5em;\n",
              "  text-align: center;\n",
              "  /* unfitted */\n",
              "  border: var(--sklearn-color-unfitted-level-1) 1pt solid;\n",
              "  color: var(--sklearn-color-unfitted-level-1);\n",
              "}\n",
              "\n",
              ".sk-estimator-doc-link.fitted,\n",
              "a:link.sk-estimator-doc-link.fitted,\n",
              "a:visited.sk-estimator-doc-link.fitted {\n",
              "  /* fitted */\n",
              "  border: var(--sklearn-color-fitted-level-1) 1pt solid;\n",
              "  color: var(--sklearn-color-fitted-level-1);\n",
              "}\n",
              "\n",
              "/* On hover */\n",
              "div.sk-estimator:hover .sk-estimator-doc-link:hover,\n",
              ".sk-estimator-doc-link:hover,\n",
              "div.sk-label-container:hover .sk-estimator-doc-link:hover,\n",
              ".sk-estimator-doc-link:hover {\n",
              "  /* unfitted */\n",
              "  background-color: var(--sklearn-color-unfitted-level-3);\n",
              "  color: var(--sklearn-color-background);\n",
              "  text-decoration: none;\n",
              "}\n",
              "\n",
              "div.sk-estimator.fitted:hover .sk-estimator-doc-link.fitted:hover,\n",
              ".sk-estimator-doc-link.fitted:hover,\n",
              "div.sk-label-container:hover .sk-estimator-doc-link.fitted:hover,\n",
              ".sk-estimator-doc-link.fitted:hover {\n",
              "  /* fitted */\n",
              "  background-color: var(--sklearn-color-fitted-level-3);\n",
              "  color: var(--sklearn-color-background);\n",
              "  text-decoration: none;\n",
              "}\n",
              "\n",
              "/* Span, style for the box shown on hovering the info icon */\n",
              ".sk-estimator-doc-link span {\n",
              "  display: none;\n",
              "  z-index: 9999;\n",
              "  position: relative;\n",
              "  font-weight: normal;\n",
              "  right: .2ex;\n",
              "  padding: .5ex;\n",
              "  margin: .5ex;\n",
              "  width: min-content;\n",
              "  min-width: 20ex;\n",
              "  max-width: 50ex;\n",
              "  color: var(--sklearn-color-text);\n",
              "  box-shadow: 2pt 2pt 4pt #999;\n",
              "  /* unfitted */\n",
              "  background: var(--sklearn-color-unfitted-level-0);\n",
              "  border: .5pt solid var(--sklearn-color-unfitted-level-3);\n",
              "}\n",
              "\n",
              ".sk-estimator-doc-link.fitted span {\n",
              "  /* fitted */\n",
              "  background: var(--sklearn-color-fitted-level-0);\n",
              "  border: var(--sklearn-color-fitted-level-3);\n",
              "}\n",
              "\n",
              ".sk-estimator-doc-link:hover span {\n",
              "  display: block;\n",
              "}\n",
              "\n",
              "/* \"?\"-specific style due to the `<a>` HTML tag */\n",
              "\n",
              "#sk-container-id-1 a.estimator_doc_link {\n",
              "  float: right;\n",
              "  font-size: 1rem;\n",
              "  line-height: 1em;\n",
              "  font-family: monospace;\n",
              "  background-color: var(--sklearn-color-background);\n",
              "  border-radius: 1rem;\n",
              "  height: 1rem;\n",
              "  width: 1rem;\n",
              "  text-decoration: none;\n",
              "  /* unfitted */\n",
              "  color: var(--sklearn-color-unfitted-level-1);\n",
              "  border: var(--sklearn-color-unfitted-level-1) 1pt solid;\n",
              "}\n",
              "\n",
              "#sk-container-id-1 a.estimator_doc_link.fitted {\n",
              "  /* fitted */\n",
              "  border: var(--sklearn-color-fitted-level-1) 1pt solid;\n",
              "  color: var(--sklearn-color-fitted-level-1);\n",
              "}\n",
              "\n",
              "/* On hover */\n",
              "#sk-container-id-1 a.estimator_doc_link:hover {\n",
              "  /* unfitted */\n",
              "  background-color: var(--sklearn-color-unfitted-level-3);\n",
              "  color: var(--sklearn-color-background);\n",
              "  text-decoration: none;\n",
              "}\n",
              "\n",
              "#sk-container-id-1 a.estimator_doc_link.fitted:hover {\n",
              "  /* fitted */\n",
              "  background-color: var(--sklearn-color-fitted-level-3);\n",
              "}\n",
              "</style><div id=\"sk-container-id-1\" class=\"sk-top-container\"><div class=\"sk-text-repr-fallback\"><pre>LinearRegression()</pre><b>In a Jupyter environment, please rerun this cell to show the HTML representation or trust the notebook. <br />On GitHub, the HTML representation is unable to render, please try loading this page with nbviewer.org.</b></div><div class=\"sk-container\" hidden><div class=\"sk-item\"><div class=\"sk-estimator fitted sk-toggleable\"><input class=\"sk-toggleable__control sk-hidden--visually\" id=\"sk-estimator-id-1\" type=\"checkbox\" checked><label for=\"sk-estimator-id-1\" class=\"sk-toggleable__label fitted sk-toggleable__label-arrow\"><div><div>LinearRegression</div></div><div><a class=\"sk-estimator-doc-link fitted\" rel=\"noreferrer\" target=\"_blank\" href=\"https://scikit-learn.org/1.6/modules/generated/sklearn.linear_model.LinearRegression.html\">?<span>Documentation for LinearRegression</span></a><span class=\"sk-estimator-doc-link fitted\">i<span>Fitted</span></span></div></label><div class=\"sk-toggleable__content fitted\"><pre>LinearRegression()</pre></div> </div></div></div></div>"
            ]
          },
          "metadata": {},
          "execution_count": 84
        }
      ]
    },
    {
      "cell_type": "code",
      "source": [
        "print(model.coef_) #w\n",
        "print(model.intercept_) #b"
      ],
      "metadata": {
        "id": "rF0JFeOsUxs7",
        "outputId": "103e5233-fb28-4fbb-a750-ae8759d1e262",
        "colab": {
          "base_uri": "https://localhost:8080/"
        }
      },
      "id": "rF0JFeOsUxs7",
      "execution_count": 85,
      "outputs": [
        {
          "output_type": "stream",
          "name": "stdout",
          "text": [
            "[1.5]\n",
            "0.3000000000000007\n"
          ]
        }
      ]
    },
    {
      "cell_type": "code",
      "source": [
        "y_pred_sklearn = model.predict(X_reshaped)"
      ],
      "metadata": {
        "id": "NyCqzkYIU9q4"
      },
      "id": "NyCqzkYIU9q4",
      "execution_count": 86,
      "outputs": []
    },
    {
      "cell_type": "code",
      "source": [
        "print(y_pred_sklearn)"
      ],
      "metadata": {
        "id": "rfU6_7EZVJOx",
        "outputId": "2fb4bfa3-1311-45ad-c9e6-174be92941a0",
        "colab": {
          "base_uri": "https://localhost:8080/"
        }
      },
      "id": "rfU6_7EZVJOx",
      "execution_count": 87,
      "outputs": [
        {
          "output_type": "stream",
          "name": "stdout",
          "text": [
            "[1.8 3.3 4.8 6.3 7.8]\n"
          ]
        }
      ]
    },
    {
      "cell_type": "code",
      "source": [
        "plt.scatter(X,Y,color='blue', label = \"Actual data\")\n",
        "plt.show()"
      ],
      "metadata": {
        "id": "lfQWm3B1WPI_",
        "outputId": "02db65b5-516d-4375-b400-d79acfea6864",
        "colab": {
          "base_uri": "https://localhost:8080/",
          "height": 430
        }
      },
      "id": "lfQWm3B1WPI_",
      "execution_count": 95,
      "outputs": [
        {
          "output_type": "display_data",
          "data": {
            "text/plain": [
              "<Figure size 640x480 with 1 Axes>"
            ],
            "image/png": "[encoded data removed]"
          },
          "metadata": {}
        }
      ]
    },
    {
      "cell_type": "code",
      "source": [
        "plt.scatter(X,Y,color='blue', label = \"Actual data\")\n",
        "\n",
        "plt.plot(X, y_pred_sklearn, label = \"sklearn Regression\")\n",
        "plt.title(\"Linear Regression with 1 var\")\n",
        "plt.show()\n"
      ],
      "metadata": {
        "id": "Eap00ZHGVLcJ",
        "outputId": "ab10fed9-e3f3-4d75-adbd-2f50983d7055",
        "colab": {
          "base_uri": "https://localhost:8080/",
          "height": 452
        }
      },
      "id": "Eap00ZHGVLcJ",
      "execution_count": 96,
      "outputs": [
        {
          "output_type": "display_data",
          "data": {
            "text/plain": [
              "<Figure size 640x480 with 1 Axes>"
            ],
            "image/png": "[encoded data removed]"
          },
          "metadata": {}
        }
      ]
    },
    {
      "cell_type": "code",
      "source": [
        "print(X.shape)\n",
        "print(y.shape)"
      ],
      "metadata": {
        "id": "rljk89RRVU55",
        "outputId": "a196ac64-befc-4d31-92f2-450c3f1f3cf7",
        "colab": {
          "base_uri": "https://localhost:8080/"
        }
      },
      "id": "rljk89RRVU55",
      "execution_count": 91,
      "outputs": [
        {
          "output_type": "stream",
          "name": "stdout",
          "text": [
            "(5,)\n",
            "(95,)\n"
          ]
        }
      ]
    },
    {
      "cell_type": "code",
      "source": [],
      "metadata": {
        "id": "jVX44OQLV-Ew"
      },
      "id": "jVX44OQLV-Ew",
      "execution_count": null,
      "outputs": []
    }
  ],
  "nbformat": 4,
  "nbformat_minor": 5,
  "metadata": {
    "colab": {
      "provenance": []
    },
    "language_info": {
      "name": "python"
    },
    "kernelspec": {
      "name": "python3",
      "display_name": "Python 3"
    }
  }
}